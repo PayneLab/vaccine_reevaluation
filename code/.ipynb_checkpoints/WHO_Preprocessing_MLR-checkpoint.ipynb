{
 "cells": [
  {
   "cell_type": "code",
   "execution_count": 1,
   "metadata": {
    "collapsed": true
   },
   "outputs": [],
   "source": [
    "import pandas as pd\n",
    "import math\n",
    "import matplotlib.pyplot as plt\n",
    "import seaborn as sns\n",
    "\n",
    "from sklearn import linear_model\n",
    "from sklearn import preprocessing\n",
    "import numpy as np\n",
    "import statsmodels.api as sm\n",
    "\n",
    "from stats_utils import MLR\n",
    "\n",
    "df = pd.read_csv(\"../data/WHO-SIMPLE.csv\")"
   ]
  },
  {
   "cell_type": "code",
   "execution_count": 2,
   "metadata": {},
   "outputs": [
    {
     "data": {
      "text/plain": [
       "Index(['Country_Year', 'MDG_0000000001', 'PCV3', 'ROTAC', 'WHS4_100',\n",
       "       'WHS4_117', 'WHS4_129', 'WHS4_543', 'WHS4_544', 'WHS8_110', 'MCV2',\n",
       "       'NUTRITION_564', 'WHS4_128', 'LBW_NUMBER', 'LBW_PREVALENCE',\n",
       "       'NUTRITION_HA_2', 'NUTRITION_WA_2', 'NUTRITION_WH2', 'NUTRITION_WH_2',\n",
       "       'WHOSIS_000005', 'WHOSIS_000006', 'MDG_0000000026', 'WHS9_95',\n",
       "       'WHS_PBR', 'WSH_2', 'WSH_3', 'WSH_SANITATION_SAFELY_MANAGED',\n",
       "       'M_Est_smk_curr', 'M_Est_smk_daily', 'TOBACCO_0000000192',\n",
       "       'GHED_CHEGDP_SHA2011', 'WHS9_85', 'Country Code', 'Year', 'GDP'],\n",
       "      dtype='object')"
      ]
     },
     "execution_count": 2,
     "metadata": {},
     "output_type": "execute_result"
    }
   ],
   "source": [
    "df.columns"
   ]
  },
  {
   "cell_type": "code",
   "execution_count": 3,
   "metadata": {},
   "outputs": [],
   "source": [
    "usa = df[df['Country Code'] == \"USA\"]\n",
    "usa = usa[usa['Year'] >= 2000]"
   ]
  },
  {
   "cell_type": "code",
   "execution_count": 6,
   "metadata": {},
   "outputs": [],
   "source": [
    "usa = usa.dropna(thresh=5, axis=1)"
   ]
  },
  {
   "cell_type": "code",
   "execution_count": 9,
   "metadata": {},
   "outputs": [],
   "source": [
    "usa = usa.drop(['PCV3', 'ROTAC'], axis=1)"
   ]
  },
  {
   "cell_type": "code",
   "execution_count": 11,
   "metadata": {},
   "outputs": [],
   "source": [
    "usa = usa.dropna(how='any')"
   ]
  },
  {
   "cell_type": "code",
   "execution_count": 13,
   "metadata": {},
   "outputs": [
    {
     "data": {
      "text/plain": [
       "Index(['Country_Year', 'MDG_0000000001', 'WHS4_100', 'WHS4_117', 'WHS4_129',\n",
       "       'WHS4_544', 'WHS8_110', 'MCV2', 'LBW_NUMBER', 'LBW_PREVALENCE',\n",
       "       'MDG_0000000026', 'WSH_SANITATION_SAFELY_MANAGED',\n",
       "       'GHED_CHEGDP_SHA2011', 'Country Code', 'Year', 'GDP'],\n",
       "      dtype='object')"
      ]
     },
     "execution_count": 13,
     "metadata": {},
     "output_type": "execute_result"
    }
   ],
   "source": [
    "usa.columns"
   ]
  },
  {
   "cell_type": "code",
   "execution_count": 15,
   "metadata": {},
   "outputs": [
    {
     "name": "stdout",
     "output_type": "stream",
     "text": [
      "MLR Results using Sci-kit Learn:\n",
      "Intercept: \n",
      " 84.34212770208713\n",
      "Coefficients: \n",
      " [ 7.38891990e-03 -3.23413748e-03 -7.13132612e-03 -8.72731954e-03\n",
      "  1.29458569e-02 -1.54420746e-04  4.35818395e-04  1.32798734e-01\n",
      " -1.36600617e-02 -8.88507285e-01 -2.91914218e-02  4.02581614e-14]\n",
      "\n",
      "                            OLS Regression Results                            \n",
      "==============================================================================\n",
      "Dep. Variable:         MDG_0000000001   R-squared:                       0.999\n",
      "Model:                            OLS   Adj. R-squared:                  0.998\n",
      "Method:                 Least Squares   F-statistic:                     626.9\n",
      "Date:                Fri, 26 Mar 2021   Prob (F-statistic):           4.20e-07\n",
      "Time:                        11:48:45   Log-Likelihood:                 48.430\n",
      "No. Observations:                  16   AIC:                            -74.86\n",
      "Df Residuals:                       5   BIC:                            -66.36\n",
      "Df Model:                          10                                         \n",
      "Covariance Type:            nonrobust                                         \n",
      "=================================================================================================\n",
      "                                    coef    std err          t      P>|t|      [0.025      0.975]\n",
      "-------------------------------------------------------------------------------------------------\n",
      "const                             0.0013      0.000      3.516      0.017       0.000       0.002\n",
      "WHS4_100                          0.0255      0.019      1.314      0.246      -0.024       0.075\n",
      "WHS4_117                          0.0030      0.016      0.194      0.853      -0.037       0.043\n",
      "WHS4_129                         -0.0040      0.009     -0.447      0.674      -0.027       0.019\n",
      "WHS4_544                         -0.0081      0.017     -0.489      0.646      -0.051       0.035\n",
      "WHS8_110                         -0.0002      0.022     -0.011      0.992      -0.056       0.055\n",
      "MCV2                             -0.0087      0.028     -0.311      0.769      -0.081       0.063\n",
      "LBW_NUMBER                        0.0057      0.002      2.306      0.069      -0.001       0.012\n",
      "LBW_PREVALENCE                   -0.0075      0.003     -2.229      0.076      -0.016       0.001\n",
      "MDG_0000000026                    0.0304      0.020      1.526      0.187      -0.021       0.081\n",
      "WSH_SANITATION_SAFELY_MANAGED     0.0862      0.036      2.413      0.061      -0.006       0.178\n",
      "GHED_CHEGDP_SHA2011              -0.1595      0.044     -3.630      0.015      -0.272      -0.047\n",
      "GDP                           -1.285e-13   2.05e-14     -6.263      0.002   -1.81e-13   -7.58e-14\n",
      "==============================================================================\n",
      "Omnibus:                        1.343   Durbin-Watson:                   3.042\n",
      "Prob(Omnibus):                  0.511   Jarque-Bera (JB):                0.953\n",
      "Skew:                          -0.565   Prob(JB):                        0.621\n",
      "Kurtosis:                       2.610   Cond. No.                     1.14e+17\n",
      "==============================================================================\n",
      "\n",
      "Warnings:\n",
      "[1] Standard Errors assume that the covariance matrix of the errors is correctly specified.\n",
      "[2] The condition number is large, 1.14e+17. This might indicate that there are\n",
      "strong multicollinearity or other numerical problems.\n"
     ]
    },
    {
     "name": "stderr",
     "output_type": "stream",
     "text": [
      "C:\\Users\\Daniel\\AppData\\Local\\conda\\conda\\envs\\Research\\lib\\site-packages\\scipy\\stats\\stats.py:1416: UserWarning: kurtosistest only valid for n>=20 ... continuing anyway, n=16\n",
      "  \"anyway, n=%i\" % int(n))\n"
     ]
    },
    {
     "data": {
      "text/plain": [
       "(LinearRegression(copy_X=True, fit_intercept=True, n_jobs=None, normalize=False),\n",
       " <statsmodels.regression.linear_model.RegressionResultsWrapper at 0x1e9a7bb8d30>,\n",
       " 10659    7.102501\n",
       " 10660    7.048594\n",
       " 10661    6.928501\n",
       " 10662    6.885447\n",
       " 10663    6.811521\n",
       " 10664    6.743192\n",
       " 10665    6.677381\n",
       " 10666    6.569558\n",
       " 10667    6.469457\n",
       " 10668    6.361755\n",
       " 10669    6.233547\n",
       " 10670    6.146232\n",
       " 10671    6.034202\n",
       " 10672    5.974738\n",
       " 10673    5.876853\n",
       " 10674    5.807188\n",
       " dtype: float64)"
      ]
     },
     "execution_count": 15,
     "metadata": {},
     "output_type": "execute_result"
    }
   ],
   "source": [
    "explanatory_vars = [\n",
    "    'WHS4_100', \n",
    "    'WHS4_117', \n",
    "    'WHS4_129',\n",
    "    'WHS4_544',\n",
    "    'WHS8_110',\n",
    "    'MCV2',\n",
    "    'LBW_NUMBER',\n",
    "    'LBW_PREVALENCE',\n",
    "    'MDG_0000000026',\n",
    "    'WSH_SANITATION_SAFELY_MANAGED',\n",
    "    'GHED_CHEGDP_SHA2011',\n",
    "    'GDP'\n",
    "]\n",
    "response_var = 'MDG_0000000001'\n",
    "\n",
    "MLR(usa, response_var, explanatory_vars)"
   ]
  },
  {
   "cell_type": "markdown",
   "metadata": {},
   "source": [
    "## The code below eliminates columns with less than 500 actual values, and rows with less than 52.7% cells populated"
   ]
  },
  {
   "cell_type": "code",
   "execution_count": null,
   "metadata": {
    "collapsed": true
   },
   "outputs": [],
   "source": [
    "#Examine data frame and determine which year has the most complete data set\n",
    "df.head()\n",
    "df.describe()\n",
    "\n",
    "df.groupby(['Year']).count().sum(axis=1)\n",
    "df = df.dropna(thresh=500, axis=1)\n",
    "\n",
    "\n",
    "df['SUM'] = df.count(axis=1)\n",
    "df = df[df['SUM'] >= 16]"
   ]
  },
  {
   "cell_type": "markdown",
   "metadata": {},
   "source": [
    "## Below is MLR Code, we must first preprocess"
   ]
  },
  {
   "cell_type": "code",
   "execution_count": null,
   "metadata": {
    "collapsed": true
   },
   "outputs": [],
   "source": [
    "# def scatterplot_2vars(df, x, y):\n",
    "#     plt.scatter(df[x], df[y], color='green')\n",
    "#     plt.title('{} Vs {}'.format(x,y), fontsize=14)\n",
    "#     plt.xlabel(x, fontsize=14)\n",
    "#     plt.ylabel(y, fontsize=14)\n",
    "#     plt.grid(True)\n",
    "#     plt.show()\n",
    "\n",
    "# def histogram(df, x):\n",
    "#     plt.hist(df[x], bins=\"auto\", range=(0,df[x].max()))\n",
    "#     plt.title('{}'.format(x), fontsize=14)\n",
    "#     plt.xlabel(x, fontsize=14)\n",
    "#     plt.grid(True)\n",
    "#     plt.show()"
   ]
  },
  {
   "cell_type": "code",
   "execution_count": null,
   "metadata": {
    "collapsed": true
   },
   "outputs": [],
   "source": [
    "# #This is to examine if the relationships are linear. Not all are, but many are good! A few may need a \n",
    "# # transformation (ie GDP) and a few may not work ultimately\n",
    "# columns_of_interest = ['PCV3',#'ROTAC','NUTRITION_564',\n",
    "#                        'WHS4_100','WHS4_117','WHS4_129','WHS4_543','WHS4_544','WHS8_110',\n",
    "#                        'MCV2','WHS4_128','LBW_NUMBER','LBW_PREVALENCE',\n",
    "#                        #'NUTRITION_HA_2','NUTRITION_WA_2',#'NUTRITION_WH2','NUTRITION_WH_2','WHOSIS_000006',\n",
    "#                        'MDG_0000000026','WSH_SANITATION_SAFELY_MANAGED',\n",
    "#                        #'WHS9_95','WHS_PBR','WSH_2','WSH_3',\n",
    "#                        #'M_Est_smk_curr','M_Est_smk_daily','TOBACCO_0000000192',\n",
    "#                        'GHED_CHEGDP_SHA2011','GDP']\n",
    "\n",
    "# df_transformed = df.copy()\n",
    "# log_col_transform = ['GDP','LBW_NUMBER','LBW_PREVALENCE','MDG_0000000026','GHED_CHEGDP_SHA2011']\n",
    "\n",
    "# for col in columns_of_interest:\n",
    "#     df_transformed[col] = np.log(df[col])\n",
    "#     scatterplot_2vars(df_transformed, col, 'MDG_0000000001')\n",
    "#     histogram(df_transformed, col)\n",
    "\n",
    "# histogram(df_transformed, 'MDG_0000000001')"
   ]
  },
  {
   "cell_type": "code",
   "execution_count": null,
   "metadata": {},
   "outputs": [],
   "source": [
    "counts = df.count()\n",
    "counts"
   ]
  },
  {
   "cell_type": "code",
   "execution_count": null,
   "metadata": {
    "collapsed": true
   },
   "outputs": [],
   "source": [
    "haveNAN = df.columns[df.isnull().any()]\n"
   ]
  },
  {
   "cell_type": "code",
   "execution_count": null,
   "metadata": {},
   "outputs": [],
   "source": [
    "haveNAN"
   ]
  },
  {
   "cell_type": "code",
   "execution_count": null,
   "metadata": {},
   "outputs": [],
   "source": [
    "df.describe()"
   ]
  },
  {
   "cell_type": "code",
   "execution_count": null,
   "metadata": {},
   "outputs": [],
   "source": [
    "#Process through all the columns with NaNs:\n",
    "for feature in haveNAN:\n",
    "    print(feature)\n",
    "    bins = df[feature].value_counts(bins=100, sort=False, dropna=False, )\n",
    "    bins_index = bins.index\n",
    "    bins_index = bins_index.set_closed(\"left\")\n",
    "    print(\"first_interval should be ({},{}, closed='left')\\n\".format(-1, bins_index[0].left))\n",
    "    first_interval = pd.Interval(-1, bins_index[0].left, closed='left')\n",
    "    bins_index = bins_index.insert(0,first_interval)\n",
    "    df[feature] = df[feature].fillna(-1)\n",
    "    df[feature] = pd.cut(df[feature], bins=bins_index, right=False)"
   ]
  },
  {
   "cell_type": "code",
   "execution_count": null,
   "metadata": {
    "collapsed": true
   },
   "outputs": [],
   "source": [
    "df.head()"
   ]
  },
  {
   "cell_type": "code",
   "execution_count": null,
   "metadata": {},
   "outputs": [],
   "source": []
  },
  {
   "cell_type": "code",
   "execution_count": null,
   "metadata": {},
   "outputs": [],
   "source": [
    "df['PCV3'].value_counts()"
   ]
  },
  {
   "cell_type": "code",
   "execution_count": null,
   "metadata": {
    "collapsed": true
   },
   "outputs": [],
   "source": [
    "#This was good for experimentation, but it creates a factor for every unique value, and since\n",
    "#the values aren't ordered, it's basically useless besides telling us that -1 is for missing values\n",
    "codes, uniques = pd.factorize(df['PCV3'])"
   ]
  },
  {
   "cell_type": "code",
   "execution_count": null,
   "metadata": {},
   "outputs": [],
   "source": [
    "codes"
   ]
  },
  {
   "cell_type": "code",
   "execution_count": null,
   "metadata": {},
   "outputs": [],
   "source": [
    "uniques"
   ]
  },
  {
   "cell_type": "code",
   "execution_count": null,
   "metadata": {
    "collapsed": true
   },
   "outputs": [],
   "source": [
    "x_and_y_cols = columns_of_interest.copy()\n",
    "x_and_y_cols.append('MDG_0000000001')\n",
    "df_no_nan = df_transformed[x_and_y_cols].copy().dropna()\n",
    "X = df_no_nan[columns_of_interest] # Our multiple variables\n",
    "Y = df_no_nan['MDG_0000000001']"
   ]
  },
  {
   "cell_type": "code",
   "execution_count": null,
   "metadata": {},
   "outputs": [],
   "source": [
    "len(X)\n"
   ]
  },
  {
   "cell_type": "code",
   "execution_count": null,
   "metadata": {
    "scrolled": true
   },
   "outputs": [],
   "source": [
    "regr = linear_model.LinearRegression()\n",
    "regr.fit(X, Y)\n",
    "\n",
    "print('Intercept: \\n', regr.intercept_)\n",
    "print('Coefficients: \\n', regr.coef_)\n",
    "\n",
    "# with statsmodels\n",
    "X = sm.add_constant(X) # adding a constant\n",
    " \n",
    "model = sm.OLS(Y, X).fit()\n",
    "predictions = model.predict(X) \n",
    " \n",
    "print_model = model.summary()\n",
    "print(print_model)"
   ]
  },
  {
   "cell_type": "code",
   "execution_count": null,
   "metadata": {},
   "outputs": [],
   "source": [
    "model.conf_int()"
   ]
  }
 ],
 "metadata": {
  "kernelspec": {
   "display_name": "Python 3",
   "language": "python",
   "name": "python3"
  },
  "language_info": {
   "codemirror_mode": {
    "name": "ipython",
    "version": 3
   },
   "file_extension": ".py",
   "mimetype": "text/x-python",
   "name": "python",
   "nbconvert_exporter": "python",
   "pygments_lexer": "ipython3",
   "version": "3.6.2"
  }
 },
 "nbformat": 4,
 "nbformat_minor": 2
}
