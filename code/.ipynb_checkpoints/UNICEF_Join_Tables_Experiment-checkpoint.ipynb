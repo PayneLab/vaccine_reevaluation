{
 "cells": [
  {
   "cell_type": "markdown",
   "metadata": {},
   "source": [
    "## Datasets"
   ]
  },
  {
   "cell_type": "code",
   "execution_count": 1,
   "metadata": {
    "collapsed": true
   },
   "outputs": [],
   "source": [
    "import pandas as pd\n",
    "import data_cleaner as clean"
   ]
  },
  {
   "cell_type": "code",
   "execution_count": 2,
   "metadata": {
    "collapsed": true
   },
   "outputs": [],
   "source": [
    "fertility = pd.read_csv('../data/UNICEF-FERTILITY-RATE-2018.csv')\n",
    "pregnant_women_dr_visits2018_4x = pd.read_csv(\"../data/UNICEF-PREGNANT-WOMEN-WHO-VISIT-DOCTOR-AT-LEAST-FOUR-TIMES-%UNIT-2018.csv\")\n",
    "imr2018 = pd.read_csv(\"../data/UNICEF-IMR-2018.csv\")\n",
    "pregnant_women_dr_visits2018_1x = pd.read_csv(\"../data/UNICEF-PREGNANT-WOMEN-WHO-VISIT-DOCTOR-AT-LEAST-ONCE-%UNIT-2018.csv\")\n",
    "infant_death2018 = pd.read_csv(\"../data/UNICEF-INFANT-DEATH-2018.csv\")\n",
    "low_birth_wt2015 = pd.read_csv(\"../data/UNICEF-PREVALENCE-OF-LOW-BIRTH-WEIGHT-2015.csv\")\n",
    "#links = pd.read_excel(\"../data/UNICEF-LINKS.xlsx\")\n",
    "vaccine_coverage2018 = pd.read_csv(\"../data/UNICEF-VACCINE-COVERAGE-BY-ANTIGEN-2018.csv\")\n",
    "maternal_death2017 = pd.read_csv(\"../data/UNICEF-MATERNAL-DEATH-2017.csv\")\n",
    "#unicef_who_joint_immun_report2016 = pd.read_excel(\"../data/UNICEF-WHO-IMMUNIZATION-JOINT-REPORT-2016.xls\")\n",
    "births2018 = pd.read_csv(\"../data/UNICEF-NUMBER-OF-BIRTH-2018.csv\")"
   ]
  },
  {
   "cell_type": "code",
   "execution_count": 3,
   "metadata": {
    "collapsed": true
   },
   "outputs": [],
   "source": [
    "datasets = [\n",
    "    fertility,  # DATAFLOW, INDICATOR:Indicator, SEX:Sex, TIME_PERIOD:Time period, OBS_VALUE:Observation Value, UNIT_MULTIPLIER:Unit multiplier, UNIT_MEASURE: Unit of measure, DATA_SOURCE:Data Source, REF_AREA, Geographic area\n",
    "    pregnant_women_dr_visits2018_4x,\n",
    "    pregnant_women_dr_visits2018_1x,\n",
    "    imr2018,  # DATAFLOW, REF_AREA, Geographic area, INDICATOR:Indicator, SEX:Sex, TIME_PERIOD:Time period, OBS_VALUE:Observation Value, UNIT_MULTIPLIER:Unit multiplier, UNIT_MEASURE:Unit of measure, OBS_STATUS:Obs Status...\n",
    "    infant_death2018,\n",
    "    low_birth_wt2015,\n",
    "    vaccine_coverage2018,\n",
    "    maternal_death2017,\n",
    "    births2018\n",
    "]"
   ]
  },
  {
   "cell_type": "code",
   "execution_count": 4,
   "metadata": {
    "collapsed": true
   },
   "outputs": [],
   "source": [
    "for df in datasets:\n",
    "    df.dropna(how=\"all\", axis=1, inplace=True)\n",
    "    if \"REF_AREA:Geographic area\" in df.columns:\n",
    "        clean.split_cols(df, \"REF_AREA:Geographic area\")\n",
    "    #print(df.describe())"
   ]
  },
  {
   "cell_type": "markdown",
   "metadata": {},
   "source": [
    "## CLEAN & JOIN DATAFRAMES INTO ONE TABLE WITH ALL DATA"
   ]
  },
  {
   "cell_type": "code",
   "execution_count": 5,
   "metadata": {
    "collapsed": true
   },
   "outputs": [],
   "source": [
    "# Filter for only total readings (don't split by male and female for now)\n",
    "gender_filter = imr2018['SEX:Sex'] == '_T: Total'\n",
    "imr2018 = imr2018[gender_filter]"
   ]
  },
  {
   "cell_type": "code",
   "execution_count": 6,
   "metadata": {},
   "outputs": [
    {
     "name": "stderr",
     "output_type": "stream",
     "text": [
      "C:\\Users\\Daniel\\Anaconda3\\lib\\site-packages\\pandas\\core\\frame.py:4308: SettingWithCopyWarning: \n",
      "A value is trying to be set on a copy of a slice from a DataFrame\n",
      "\n",
      "See the caveats in the documentation: https://pandas.pydata.org/pandas-docs/stable/user_guide/indexing.html#returning-a-view-versus-a-copy\n",
      "  errors=errors,\n"
     ]
    }
   ],
   "source": [
    "# Join Fertility & IMR\n",
    "fertility.rename(columns = {\"OBS_VALUE:Observation Value\":\"Total_Fertility_Rate_%\"}, inplace=True)\n",
    "fertility_selection = fertility[[\"Total_Fertility_Rate_%\", \"REF_AREA\", \"Geographic area\"]]\n",
    "imr2018.rename(columns = {\"OBS_VALUE:Observation Value\": \"Infant_Mortality_Rate\"}, inplace=True)\n",
    "imr2018.rename(columns={\"LOWER_BOUND:Lower Bound\": \"IMR_Lower_Bound\"}, inplace=True)\n",
    "imr2018.rename(columns={\"UPPER_BOUND:Upper Bound\": \"IMR_Upper_Bound\"}, inplace=True)\n",
    "\n",
    "imr2018_selection = imr2018[[\"REF_AREA\", \"Geographic area\", \"Infant_Mortality_Rate\", \n",
    "                             \"IMR_Lower_Bound\", \"IMR_Upper_Bound\", \"SEX:Sex\"]]\n",
    "\n",
    "joined = imr2018_selection.merge(fertility_selection, how=\"left\", sort=False, on=[\"REF_AREA\", \"Geographic area\"])"
   ]
  },
  {
   "cell_type": "code",
   "execution_count": 7,
   "metadata": {},
   "outputs": [
    {
     "data": {
      "text/html": [
       "<div>\n",
       "<style scoped>\n",
       "    .dataframe tbody tr th:only-of-type {\n",
       "        vertical-align: middle;\n",
       "    }\n",
       "\n",
       "    .dataframe tbody tr th {\n",
       "        vertical-align: top;\n",
       "    }\n",
       "\n",
       "    .dataframe thead th {\n",
       "        text-align: right;\n",
       "    }\n",
       "</style>\n",
       "<table border=\"1\" class=\"dataframe\">\n",
       "  <thead>\n",
       "    <tr style=\"text-align: right;\">\n",
       "      <th></th>\n",
       "      <th>REF_AREA</th>\n",
       "      <th>Geographic area</th>\n",
       "      <th>Infant_Mortality_Rate</th>\n",
       "      <th>IMR_Lower_Bound</th>\n",
       "      <th>IMR_Upper_Bound</th>\n",
       "      <th>SEX:Sex</th>\n",
       "      <th>Total_Fertility_Rate_%</th>\n",
       "    </tr>\n",
       "  </thead>\n",
       "  <tbody>\n",
       "    <tr>\n",
       "      <th>0</th>\n",
       "      <td>AFG</td>\n",
       "      <td>Afghanistan</td>\n",
       "      <td>48.043335</td>\n",
       "      <td>39.944302</td>\n",
       "      <td>56.320057</td>\n",
       "      <td>_T: Total</td>\n",
       "      <td>4.473</td>\n",
       "    </tr>\n",
       "    <tr>\n",
       "      <th>1</th>\n",
       "      <td>ALB</td>\n",
       "      <td>Albania</td>\n",
       "      <td>8.473569</td>\n",
       "      <td>8.064059</td>\n",
       "      <td>8.916751</td>\n",
       "      <td>_T: Total</td>\n",
       "      <td>1.617</td>\n",
       "    </tr>\n",
       "    <tr>\n",
       "      <th>2</th>\n",
       "      <td>DZA</td>\n",
       "      <td>Algeria</td>\n",
       "      <td>20.429315</td>\n",
       "      <td>19.960411</td>\n",
       "      <td>20.895252</td>\n",
       "      <td>_T: Total</td>\n",
       "      <td>3.023</td>\n",
       "    </tr>\n",
       "    <tr>\n",
       "      <th>3</th>\n",
       "      <td>AND</td>\n",
       "      <td>Andorra</td>\n",
       "      <td>2.941386</td>\n",
       "      <td>0.868024</td>\n",
       "      <td>10.544288</td>\n",
       "      <td>_T: Total</td>\n",
       "      <td>NaN</td>\n",
       "    </tr>\n",
       "    <tr>\n",
       "      <th>4</th>\n",
       "      <td>AGO</td>\n",
       "      <td>Angola</td>\n",
       "      <td>51.871440</td>\n",
       "      <td>28.205699</td>\n",
       "      <td>87.376078</td>\n",
       "      <td>_T: Total</td>\n",
       "      <td>5.519</td>\n",
       "    </tr>\n",
       "  </tbody>\n",
       "</table>\n",
       "</div>"
      ],
      "text/plain": [
       "  REF_AREA Geographic area  Infant_Mortality_Rate  IMR_Lower_Bound  \\\n",
       "0      AFG     Afghanistan              48.043335        39.944302   \n",
       "1      ALB         Albania               8.473569         8.064059   \n",
       "2      DZA         Algeria              20.429315        19.960411   \n",
       "3      AND         Andorra               2.941386         0.868024   \n",
       "4      AGO          Angola              51.871440        28.205699   \n",
       "\n",
       "   IMR_Upper_Bound    SEX:Sex  Total_Fertility_Rate_%  \n",
       "0        56.320057  _T: Total                   4.473  \n",
       "1         8.916751  _T: Total                   1.617  \n",
       "2        20.895252  _T: Total                   3.023  \n",
       "3        10.544288  _T: Total                     NaN  \n",
       "4        87.376078  _T: Total                   5.519  "
      ]
     },
     "execution_count": 7,
     "metadata": {},
     "output_type": "execute_result"
    }
   ],
   "source": [
    "joined.head()"
   ]
  },
  {
   "cell_type": "code",
   "execution_count": 8,
   "metadata": {},
   "outputs": [],
   "source": [
    "# Filter only for combined readings (don't split by Male/Female)\n",
    "gender_filter = infant_death2018['SEX:Sex'] == '_T: Total'\n",
    "infant_death2018 = infant_death2018[gender_filter]"
   ]
  },
  {
   "cell_type": "code",
   "execution_count": 9,
   "metadata": {},
   "outputs": [
    {
     "name": "stderr",
     "output_type": "stream",
     "text": [
      "C:\\Users\\Daniel\\Anaconda3\\lib\\site-packages\\pandas\\core\\frame.py:4308: SettingWithCopyWarning: \n",
      "A value is trying to be set on a copy of a slice from a DataFrame\n",
      "\n",
      "See the caveats in the documentation: https://pandas.pydata.org/pandas-docs/stable/user_guide/indexing.html#returning-a-view-versus-a-copy\n",
      "  errors=errors,\n"
     ]
    }
   ],
   "source": [
    "# Join Infant Deaths\n",
    "infant_death2018.rename(columns = {\"OBS_VALUE:Observation Value\": \"Number_of_Infant_Deaths\"}, inplace=True)\n",
    "infant_death2018.rename(columns={\"LOWER_BOUND:Lower Bound\": \"Infant_Death_Lower_Bound\"}, inplace=True)\n",
    "infant_death2018.rename(columns={\"UPPER_BOUND:Upper Bound\": \"Infant_Death_Upper_Bound\"}, inplace=True)\n",
    "infant_death2018_selection = infant_death2018[[\"Number_of_Infant_Deaths\", \"Infant_Death_Lower_Bound\", \"Infant_Death_Upper_Bound\", \"SEX:Sex\", \"REF_AREA\", \"Geographic area\"]]\n",
    "joined = joined.merge(infant_death2018_selection, how='left', sort=False, on=['REF_AREA', \"Geographic area\", \"SEX:Sex\"])"
   ]
  },
  {
   "cell_type": "code",
   "execution_count": 10,
   "metadata": {},
   "outputs": [
    {
     "data": {
      "text/html": [
       "<div>\n",
       "<style scoped>\n",
       "    .dataframe tbody tr th:only-of-type {\n",
       "        vertical-align: middle;\n",
       "    }\n",
       "\n",
       "    .dataframe tbody tr th {\n",
       "        vertical-align: top;\n",
       "    }\n",
       "\n",
       "    .dataframe thead th {\n",
       "        text-align: right;\n",
       "    }\n",
       "</style>\n",
       "<table border=\"1\" class=\"dataframe\">\n",
       "  <thead>\n",
       "    <tr style=\"text-align: right;\">\n",
       "      <th></th>\n",
       "      <th>REF_AREA</th>\n",
       "      <th>Geographic area</th>\n",
       "      <th>Infant_Mortality_Rate</th>\n",
       "      <th>IMR_Lower_Bound</th>\n",
       "      <th>IMR_Upper_Bound</th>\n",
       "      <th>SEX:Sex</th>\n",
       "      <th>Total_Fertility_Rate_%</th>\n",
       "      <th>Number_of_Infant_Deaths</th>\n",
       "      <th>Infant_Death_Lower_Bound</th>\n",
       "      <th>Infant_Death_Upper_Bound</th>\n",
       "    </tr>\n",
       "  </thead>\n",
       "  <tbody>\n",
       "    <tr>\n",
       "      <th>0</th>\n",
       "      <td>AFG</td>\n",
       "      <td>Afghanistan</td>\n",
       "      <td>48.043335</td>\n",
       "      <td>39.944302</td>\n",
       "      <td>56.320057</td>\n",
       "      <td>_T: Total</td>\n",
       "      <td>4.473</td>\n",
       "      <td>57394</td>\n",
       "      <td>47776</td>\n",
       "      <td>67195</td>\n",
       "    </tr>\n",
       "    <tr>\n",
       "      <th>1</th>\n",
       "      <td>ALB</td>\n",
       "      <td>Albania</td>\n",
       "      <td>8.473569</td>\n",
       "      <td>8.064059</td>\n",
       "      <td>8.916751</td>\n",
       "      <td>_T: Total</td>\n",
       "      <td>1.617</td>\n",
       "      <td>289</td>\n",
       "      <td>275</td>\n",
       "      <td>304</td>\n",
       "    </tr>\n",
       "    <tr>\n",
       "      <th>2</th>\n",
       "      <td>DZA</td>\n",
       "      <td>Algeria</td>\n",
       "      <td>20.429315</td>\n",
       "      <td>19.960411</td>\n",
       "      <td>20.895252</td>\n",
       "      <td>_T: Total</td>\n",
       "      <td>3.023</td>\n",
       "      <td>20875</td>\n",
       "      <td>20397</td>\n",
       "      <td>21350</td>\n",
       "    </tr>\n",
       "    <tr>\n",
       "      <th>3</th>\n",
       "      <td>AND</td>\n",
       "      <td>Andorra</td>\n",
       "      <td>2.941386</td>\n",
       "      <td>0.868024</td>\n",
       "      <td>10.544288</td>\n",
       "      <td>_T: Total</td>\n",
       "      <td>NaN</td>\n",
       "      <td>2</td>\n",
       "      <td>1</td>\n",
       "      <td>6</td>\n",
       "    </tr>\n",
       "    <tr>\n",
       "      <th>4</th>\n",
       "      <td>AGO</td>\n",
       "      <td>Angola</td>\n",
       "      <td>51.871440</td>\n",
       "      <td>28.205699</td>\n",
       "      <td>87.376078</td>\n",
       "      <td>_T: Total</td>\n",
       "      <td>5.519</td>\n",
       "      <td>64019</td>\n",
       "      <td>34947</td>\n",
       "      <td>107229</td>\n",
       "    </tr>\n",
       "  </tbody>\n",
       "</table>\n",
       "</div>"
      ],
      "text/plain": [
       "  REF_AREA Geographic area  Infant_Mortality_Rate  IMR_Lower_Bound  \\\n",
       "0      AFG     Afghanistan              48.043335        39.944302   \n",
       "1      ALB         Albania               8.473569         8.064059   \n",
       "2      DZA         Algeria              20.429315        19.960411   \n",
       "3      AND         Andorra               2.941386         0.868024   \n",
       "4      AGO          Angola              51.871440        28.205699   \n",
       "\n",
       "   IMR_Upper_Bound    SEX:Sex  Total_Fertility_Rate_%  \\\n",
       "0        56.320057  _T: Total                   4.473   \n",
       "1         8.916751  _T: Total                   1.617   \n",
       "2        20.895252  _T: Total                   3.023   \n",
       "3        10.544288  _T: Total                     NaN   \n",
       "4        87.376078  _T: Total                   5.519   \n",
       "\n",
       "   Number_of_Infant_Deaths  Infant_Death_Lower_Bound  Infant_Death_Upper_Bound  \n",
       "0                    57394                     47776                     67195  \n",
       "1                      289                       275                       304  \n",
       "2                    20875                     20397                     21350  \n",
       "3                        2                         1                         6  \n",
       "4                    64019                     34947                    107229  "
      ]
     },
     "execution_count": 10,
     "metadata": {},
     "output_type": "execute_result"
    }
   ],
   "source": [
    "joined.head()"
   ]
  },
  {
   "cell_type": "code",
   "execution_count": 11,
   "metadata": {},
   "outputs": [
    {
     "data": {
      "text/html": [
       "<div>\n",
       "<style scoped>\n",
       "    .dataframe tbody tr th:only-of-type {\n",
       "        vertical-align: middle;\n",
       "    }\n",
       "\n",
       "    .dataframe tbody tr th {\n",
       "        vertical-align: top;\n",
       "    }\n",
       "\n",
       "    .dataframe thead th {\n",
       "        text-align: right;\n",
       "    }\n",
       "</style>\n",
       "<table border=\"1\" class=\"dataframe\">\n",
       "  <thead>\n",
       "    <tr style=\"text-align: right;\">\n",
       "      <th></th>\n",
       "      <th>Infant_Mortality_Rate</th>\n",
       "      <th>IMR_Lower_Bound</th>\n",
       "      <th>IMR_Upper_Bound</th>\n",
       "      <th>Total_Fertility_Rate_%</th>\n",
       "      <th>Number_of_Infant_Deaths</th>\n",
       "      <th>Infant_Death_Lower_Bound</th>\n",
       "      <th>Infant_Death_Upper_Bound</th>\n",
       "    </tr>\n",
       "  </thead>\n",
       "  <tbody>\n",
       "    <tr>\n",
       "      <th>count</th>\n",
       "      <td>231.000000</td>\n",
       "      <td>231.000000</td>\n",
       "      <td>231.000000</td>\n",
       "      <td>184.000000</td>\n",
       "      <td>2.310000e+02</td>\n",
       "      <td>2.310000e+02</td>\n",
       "      <td>2.310000e+02</td>\n",
       "    </tr>\n",
       "    <tr>\n",
       "      <th>mean</th>\n",
       "      <td>21.747269</td>\n",
       "      <td>17.173082</td>\n",
       "      <td>28.176669</td>\n",
       "      <td>2.734054</td>\n",
       "      <td>1.132302e+05</td>\n",
       "      <td>1.050221e+05</td>\n",
       "      <td>1.243296e+05</td>\n",
       "    </tr>\n",
       "    <tr>\n",
       "      <th>std</th>\n",
       "      <td>19.135792</td>\n",
       "      <td>15.157490</td>\n",
       "      <td>26.145611</td>\n",
       "      <td>1.270329</td>\n",
       "      <td>4.097373e+05</td>\n",
       "      <td>3.900040e+05</td>\n",
       "      <td>4.385175e+05</td>\n",
       "    </tr>\n",
       "    <tr>\n",
       "      <th>min</th>\n",
       "      <td>1.552569</td>\n",
       "      <td>0.825851</td>\n",
       "      <td>1.906501</td>\n",
       "      <td>1.110000</td>\n",
       "      <td>0.000000e+00</td>\n",
       "      <td>0.000000e+00</td>\n",
       "      <td>1.000000e+00</td>\n",
       "    </tr>\n",
       "    <tr>\n",
       "      <th>25%</th>\n",
       "      <td>6.152161</td>\n",
       "      <td>5.323662</td>\n",
       "      <td>7.427986</td>\n",
       "      <td>1.741250</td>\n",
       "      <td>2.915000e+02</td>\n",
       "      <td>2.645000e+02</td>\n",
       "      <td>3.185000e+02</td>\n",
       "    </tr>\n",
       "    <tr>\n",
       "      <th>50%</th>\n",
       "      <td>14.852143</td>\n",
       "      <td>11.651276</td>\n",
       "      <td>19.461561</td>\n",
       "      <td>2.273000</td>\n",
       "      <td>3.192000e+03</td>\n",
       "      <td>2.775000e+03</td>\n",
       "      <td>3.990000e+03</td>\n",
       "    </tr>\n",
       "    <tr>\n",
       "      <th>75%</th>\n",
       "      <td>33.170070</td>\n",
       "      <td>26.747144</td>\n",
       "      <td>42.518052</td>\n",
       "      <td>3.622000</td>\n",
       "      <td>3.147650e+04</td>\n",
       "      <td>2.596150e+04</td>\n",
       "      <td>3.591550e+04</td>\n",
       "    </tr>\n",
       "    <tr>\n",
       "      <th>max</th>\n",
       "      <td>83.441195</td>\n",
       "      <td>73.039362</td>\n",
       "      <td>138.356631</td>\n",
       "      <td>6.913000</td>\n",
       "      <td>4.010099e+06</td>\n",
       "      <td>3.880481e+06</td>\n",
       "      <td>4.215378e+06</td>\n",
       "    </tr>\n",
       "  </tbody>\n",
       "</table>\n",
       "</div>"
      ],
      "text/plain": [
       "       Infant_Mortality_Rate  IMR_Lower_Bound  IMR_Upper_Bound  \\\n",
       "count             231.000000       231.000000       231.000000   \n",
       "mean               21.747269        17.173082        28.176669   \n",
       "std                19.135792        15.157490        26.145611   \n",
       "min                 1.552569         0.825851         1.906501   \n",
       "25%                 6.152161         5.323662         7.427986   \n",
       "50%                14.852143        11.651276        19.461561   \n",
       "75%                33.170070        26.747144        42.518052   \n",
       "max                83.441195        73.039362       138.356631   \n",
       "\n",
       "       Total_Fertility_Rate_%  Number_of_Infant_Deaths  \\\n",
       "count              184.000000             2.310000e+02   \n",
       "mean                 2.734054             1.132302e+05   \n",
       "std                  1.270329             4.097373e+05   \n",
       "min                  1.110000             0.000000e+00   \n",
       "25%                  1.741250             2.915000e+02   \n",
       "50%                  2.273000             3.192000e+03   \n",
       "75%                  3.622000             3.147650e+04   \n",
       "max                  6.913000             4.010099e+06   \n",
       "\n",
       "       Infant_Death_Lower_Bound  Infant_Death_Upper_Bound  \n",
       "count              2.310000e+02              2.310000e+02  \n",
       "mean               1.050221e+05              1.243296e+05  \n",
       "std                3.900040e+05              4.385175e+05  \n",
       "min                0.000000e+00              1.000000e+00  \n",
       "25%                2.645000e+02              3.185000e+02  \n",
       "50%                2.775000e+03              3.990000e+03  \n",
       "75%                2.596150e+04              3.591550e+04  \n",
       "max                3.880481e+06              4.215378e+06  "
      ]
     },
     "execution_count": 11,
     "metadata": {},
     "output_type": "execute_result"
    }
   ],
   "source": [
    "joined.describe()"
   ]
  },
  {
   "cell_type": "code",
   "execution_count": 12,
   "metadata": {
    "collapsed": true
   },
   "outputs": [],
   "source": [
    "# Join # of Births\n",
    "births2018.rename(columns={\"OBS_VALUE\": \"Number_of_Births_Thousands\"}, inplace=True)\n",
    "births2018_selection = births2018[[\"Geographic area\", \"Number_of_Births_Thousands\"]]\n",
    "joined = joined.merge(births2018_selection, how='left', sort=False, on=\"Geographic area\") # -- FIXME THIS ISN'T ADDING CORRECTLY"
   ]
  },
  {
   "cell_type": "code",
   "execution_count": 13,
   "metadata": {},
   "outputs": [
    {
     "data": {
      "text/html": [
       "<div>\n",
       "<style scoped>\n",
       "    .dataframe tbody tr th:only-of-type {\n",
       "        vertical-align: middle;\n",
       "    }\n",
       "\n",
       "    .dataframe tbody tr th {\n",
       "        vertical-align: top;\n",
       "    }\n",
       "\n",
       "    .dataframe thead th {\n",
       "        text-align: right;\n",
       "    }\n",
       "</style>\n",
       "<table border=\"1\" class=\"dataframe\">\n",
       "  <thead>\n",
       "    <tr style=\"text-align: right;\">\n",
       "      <th></th>\n",
       "      <th>Infant_Mortality_Rate</th>\n",
       "      <th>IMR_Lower_Bound</th>\n",
       "      <th>IMR_Upper_Bound</th>\n",
       "      <th>Total_Fertility_Rate_%</th>\n",
       "      <th>Number_of_Infant_Deaths</th>\n",
       "      <th>Infant_Death_Lower_Bound</th>\n",
       "      <th>Infant_Death_Upper_Bound</th>\n",
       "      <th>Number_of_Births_Thousands</th>\n",
       "    </tr>\n",
       "  </thead>\n",
       "  <tbody>\n",
       "    <tr>\n",
       "      <th>count</th>\n",
       "      <td>231.000000</td>\n",
       "      <td>231.000000</td>\n",
       "      <td>231.000000</td>\n",
       "      <td>184.000000</td>\n",
       "      <td>2.310000e+02</td>\n",
       "      <td>2.310000e+02</td>\n",
       "      <td>2.310000e+02</td>\n",
       "      <td>184.000000</td>\n",
       "    </tr>\n",
       "    <tr>\n",
       "      <th>mean</th>\n",
       "      <td>21.747269</td>\n",
       "      <td>17.173082</td>\n",
       "      <td>28.176669</td>\n",
       "      <td>2.734054</td>\n",
       "      <td>1.132302e+05</td>\n",
       "      <td>1.050221e+05</td>\n",
       "      <td>1.243296e+05</td>\n",
       "      <td>759.858902</td>\n",
       "    </tr>\n",
       "    <tr>\n",
       "      <th>std</th>\n",
       "      <td>19.135792</td>\n",
       "      <td>15.157490</td>\n",
       "      <td>26.145611</td>\n",
       "      <td>1.270329</td>\n",
       "      <td>4.097373e+05</td>\n",
       "      <td>3.900040e+05</td>\n",
       "      <td>4.385175e+05</td>\n",
       "      <td>2335.010181</td>\n",
       "    </tr>\n",
       "    <tr>\n",
       "      <th>min</th>\n",
       "      <td>1.552569</td>\n",
       "      <td>0.825851</td>\n",
       "      <td>1.906501</td>\n",
       "      <td>1.110000</td>\n",
       "      <td>0.000000e+00</td>\n",
       "      <td>0.000000e+00</td>\n",
       "      <td>1.000000e+00</td>\n",
       "      <td>1.475000</td>\n",
       "    </tr>\n",
       "    <tr>\n",
       "      <th>25%</th>\n",
       "      <td>6.152161</td>\n",
       "      <td>5.323662</td>\n",
       "      <td>7.427986</td>\n",
       "      <td>1.741250</td>\n",
       "      <td>2.915000e+02</td>\n",
       "      <td>2.645000e+02</td>\n",
       "      <td>3.185000e+02</td>\n",
       "      <td>46.314000</td>\n",
       "    </tr>\n",
       "    <tr>\n",
       "      <th>50%</th>\n",
       "      <td>14.852143</td>\n",
       "      <td>11.651276</td>\n",
       "      <td>19.461561</td>\n",
       "      <td>2.273000</td>\n",
       "      <td>3.192000e+03</td>\n",
       "      <td>2.775000e+03</td>\n",
       "      <td>3.990000e+03</td>\n",
       "      <td>166.243000</td>\n",
       "    </tr>\n",
       "    <tr>\n",
       "      <th>75%</th>\n",
       "      <td>33.170070</td>\n",
       "      <td>26.747144</td>\n",
       "      <td>42.518052</td>\n",
       "      <td>3.622000</td>\n",
       "      <td>3.147650e+04</td>\n",
       "      <td>2.596150e+04</td>\n",
       "      <td>3.591550e+04</td>\n",
       "      <td>635.255750</td>\n",
       "    </tr>\n",
       "    <tr>\n",
       "      <th>max</th>\n",
       "      <td>83.441195</td>\n",
       "      <td>73.039362</td>\n",
       "      <td>138.356631</td>\n",
       "      <td>6.913000</td>\n",
       "      <td>4.010099e+06</td>\n",
       "      <td>3.880481e+06</td>\n",
       "      <td>4.215378e+06</td>\n",
       "      <td>24164.357000</td>\n",
       "    </tr>\n",
       "  </tbody>\n",
       "</table>\n",
       "</div>"
      ],
      "text/plain": [
       "       Infant_Mortality_Rate  IMR_Lower_Bound  IMR_Upper_Bound  \\\n",
       "count             231.000000       231.000000       231.000000   \n",
       "mean               21.747269        17.173082        28.176669   \n",
       "std                19.135792        15.157490        26.145611   \n",
       "min                 1.552569         0.825851         1.906501   \n",
       "25%                 6.152161         5.323662         7.427986   \n",
       "50%                14.852143        11.651276        19.461561   \n",
       "75%                33.170070        26.747144        42.518052   \n",
       "max                83.441195        73.039362       138.356631   \n",
       "\n",
       "       Total_Fertility_Rate_%  Number_of_Infant_Deaths  \\\n",
       "count              184.000000             2.310000e+02   \n",
       "mean                 2.734054             1.132302e+05   \n",
       "std                  1.270329             4.097373e+05   \n",
       "min                  1.110000             0.000000e+00   \n",
       "25%                  1.741250             2.915000e+02   \n",
       "50%                  2.273000             3.192000e+03   \n",
       "75%                  3.622000             3.147650e+04   \n",
       "max                  6.913000             4.010099e+06   \n",
       "\n",
       "       Infant_Death_Lower_Bound  Infant_Death_Upper_Bound  \\\n",
       "count              2.310000e+02              2.310000e+02   \n",
       "mean               1.050221e+05              1.243296e+05   \n",
       "std                3.900040e+05              4.385175e+05   \n",
       "min                0.000000e+00              1.000000e+00   \n",
       "25%                2.645000e+02              3.185000e+02   \n",
       "50%                2.775000e+03              3.990000e+03   \n",
       "75%                2.596150e+04              3.591550e+04   \n",
       "max                3.880481e+06              4.215378e+06   \n",
       "\n",
       "       Number_of_Births_Thousands  \n",
       "count                  184.000000  \n",
       "mean                   759.858902  \n",
       "std                   2335.010181  \n",
       "min                      1.475000  \n",
       "25%                     46.314000  \n",
       "50%                    166.243000  \n",
       "75%                    635.255750  \n",
       "max                  24164.357000  "
      ]
     },
     "execution_count": 13,
     "metadata": {},
     "output_type": "execute_result"
    }
   ],
   "source": [
    "joined.describe()"
   ]
  },
  {
   "cell_type": "markdown",
   "metadata": {},
   "source": [
    "## Datasets to hold off on or explore separately"
   ]
  },
  {
   "cell_type": "markdown",
   "metadata": {},
   "source": [
    "Because of how few datapoints are present in the pregnant women doctor visits datasets, we will hold off joining them for now with the larger dataset, and focus on the other datasets for now.  We may come back to these, but they have very little coverage compared to the rest of the data (31 / ~230), which will throw off the rest of the analyses"
   ]
  },
  {
   "cell_type": "code",
   "execution_count": 14,
   "metadata": {
    "collapsed": true
   },
   "outputs": [],
   "source": [
    "# # Join # of DR Visits\n",
    "# pregnant_women_dr_visits2018_4x.rename(columns={\"OBS_VALUE:Observation Value\": \"Women_4+_dr_visits_%\"}, inplace = True)\n",
    "# pregnant_women_dr_visits2018_4x_selection = pregnant_women_dr_visits2018_4x[[\"Women_4+_dr_visits_%\",\"REF_AREA\", \"Geographic area\"]]\n",
    "# pregnant_women_dr_visits2018_1x.rename(columns={\"OBS_VALUE:Observation Value\": \"Women_1+_dr_visit_%\"}, inplace = True)\n",
    "# pregnant_women_dr_visits2018_1x_selection = pregnant_women_dr_visits2018_1x[[\"Women_1+_dr_visit_%\", \"REF_AREA\", \"Geographic area\"]]\n",
    "# joined = joined.merge(pregnant_women_dr_visits2018_4x_selection, how='left', sort=False, on=['REF_AREA', \"Geographic area\"])\n",
    "# joined = joined.merge(pregnant_women_dr_visits2018_1x_selection, how='left', sort=False, on=['REF_AREA', \"Geographic area\"])"
   ]
  },
  {
   "cell_type": "markdown",
   "metadata": {},
   "source": [
    "We're going to hold off and do vaccine coverage separately as well because it has 2410 rows as opposed to the 231 we have been working with, which will once again massively throw off the joining of datasets"
   ]
  },
  {
   "cell_type": "code",
   "execution_count": 15,
   "metadata": {
    "collapsed": true
   },
   "outputs": [],
   "source": [
    "# # Join Vaccine coverage\n",
    "# vaccine_coverage2018.rename(columns = {\"INDICATOR:Indicator\":\"Vaccine_Type\", \"OBS_VALUE:Observation Value\":\"%_vaccinated\", \"AGE:Current age\":\"Vaccinated_current_age_2018\"}, inplace=True)\n",
    "# vaccine_coverage2018_selection = vaccine_coverage2018[[\"Vaccine_Type\", \"%_vaccinated\", \"Vaccinated_current_age_2018\", \"SEX:Sex\", \"REF_AREA\", \"Geographic area\"]]\n",
    "# joined = joined.merge(vaccine_coverage2018_selection, how='left', sort=False, on=[\"SEX:Sex\", \"REF_AREA\", \"Geographic area\"])"
   ]
  },
  {
   "cell_type": "markdown",
   "metadata": {},
   "source": [
    "We're holding off on Maternal death because it is 2017 data, and should be compared with 2017 IMR data, not 2018."
   ]
  },
  {
   "cell_type": "code",
   "execution_count": 17,
   "metadata": {
    "collapsed": true
   },
   "outputs": [],
   "source": [
    "# # Join Maternal death\n",
    "# maternal_death2017.rename(columns = {\"OBS_VALUE:Observation Value\":\"Est_Maternal_Deaths\"}, inplace=True)\n",
    "# maternal_death2017_selection = maternal_death2017[[\"Est_Maternal_Deaths\", \"REF_AREA\", \"Geographic area\"]]\n",
    "# joined = joined.merge(maternal_death2017_selection, how='left', on=['REF_AREA', \"Geographic area\"])"
   ]
  },
  {
   "cell_type": "markdown",
   "metadata": {},
   "source": [
    "We're holding off on low birth weight data because it is 2015 data, and should be compared with 2015 IMR data, not 2018"
   ]
  },
  {
   "cell_type": "code",
   "execution_count": 19,
   "metadata": {
    "collapsed": true
   },
   "outputs": [],
   "source": [
    "# # Join Low Birth Weight\n",
    "# low_birth_wt2015.rename(columns = {\"OBS_VALUE:Observation Value\": \"Low_birth_weight_%\", \"LOWER_BOUND:Lower Bound\": \"Low_birth_weight_lower\", \"UPPER_BOUND:Upper Bound\":\"Low_birth_weight_upper\"}, inplace=True)\n",
    "# low_birth_wt2015_selection = low_birth_wt2015[[\"Low_birth_weight_%\",\"Low_birth_weight_lower\", \"Low_birth_weight_upper\", \"REF_AREA\", \"Geographic area\"]]\n",
    "# joined = joined.merge(low_birth_wt2015_selection, how='left', on=['REF_AREA','Geographic area'])"
   ]
  }
 ],
 "metadata": {
  "kernelspec": {
   "display_name": "Python 3",
   "language": "python",
   "name": "python3"
  },
  "language_info": {
   "codemirror_mode": {
    "name": "ipython",
    "version": 3
   },
   "file_extension": ".py",
   "mimetype": "text/x-python",
   "name": "python",
   "nbconvert_exporter": "python",
   "pygments_lexer": "ipython3",
   "version": "3.6.3"
  }
 },
 "nbformat": 4,
 "nbformat_minor": 2
}
