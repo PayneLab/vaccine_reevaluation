{
 "cells": [
  {
   "cell_type": "markdown",
   "metadata": {},
   "source": [
    "## Here we will be exploring the connection between Maternal Death and IMR using 2017 data from UNICEF.  This is to maintain consistency, and not to mix multiple different years' data into one single analysis, which could lead to potentially unreliable results"
   ]
  },
  {
   "cell_type": "code",
   "execution_count": 1,
   "metadata": {
    "collapsed": true
   },
   "outputs": [],
   "source": [
    "import pandas as pd\n",
    "import data_cleaner as clean"
   ]
  },
  {
   "cell_type": "markdown",
   "metadata": {},
   "source": [
    "### Import datasets"
   ]
  },
  {
   "cell_type": "code",
   "execution_count": 3,
   "metadata": {
    "collapsed": true
   },
   "outputs": [],
   "source": [
    "imr2017 = pd.read_csv(\"../data/UNICEF-IMR-2017.csv\")\n",
    "maternal_death2017 = pd.read_csv(\"../data/UNICEF-MATERNAL-DEATH-2017.csv\")"
   ]
  },
  {
   "cell_type": "code",
   "execution_count": 6,
   "metadata": {
    "collapsed": true
   },
   "outputs": [],
   "source": [
    "who_1 = pd.read_csv(\"../data/WHO-CHILD-HEALTH-1.csv\")"
   ]
  },
  {
   "cell_type": "code",
   "execution_count": 7,
   "metadata": {},
   "outputs": [
    {
     "data": {
      "text/html": [
       "<div>\n",
       "<style scoped>\n",
       "    .dataframe tbody tr th:only-of-type {\n",
       "        vertical-align: middle;\n",
       "    }\n",
       "\n",
       "    .dataframe tbody tr th {\n",
       "        vertical-align: top;\n",
       "    }\n",
       "\n",
       "    .dataframe thead th {\n",
       "        text-align: right;\n",
       "    }\n",
       "</style>\n",
       "<table border=\"1\" class=\"dataframe\">\n",
       "  <thead>\n",
       "    <tr style=\"text-align: right;\">\n",
       "      <th></th>\n",
       "      <th>GHO</th>\n",
       "      <th>PUBLISHSTATE</th>\n",
       "      <th>YEAR</th>\n",
       "      <th>REGION</th>\n",
       "      <th>WORLDBANKINCOMEGROUP</th>\n",
       "      <th>COUNTRY</th>\n",
       "      <th>Display Value</th>\n",
       "      <th>Numeric</th>\n",
       "      <th>Low</th>\n",
       "      <th>High</th>\n",
       "      <th>Comments</th>\n",
       "    </tr>\n",
       "  </thead>\n",
       "  <tbody>\n",
       "    <tr>\n",
       "      <th>0</th>\n",
       "      <td>PCV3</td>\n",
       "      <td>PUBLISHED</td>\n",
       "      <td>2015</td>\n",
       "      <td>EMR</td>\n",
       "      <td>WB_LI</td>\n",
       "      <td>AFG</td>\n",
       "      <td>65</td>\n",
       "      <td>65.0</td>\n",
       "      <td>NaN</td>\n",
       "      <td>NaN</td>\n",
       "      <td>NaN</td>\n",
       "    </tr>\n",
       "    <tr>\n",
       "      <th>1</th>\n",
       "      <td>WHS4_100</td>\n",
       "      <td>PUBLISHED</td>\n",
       "      <td>1992</td>\n",
       "      <td>EMR</td>\n",
       "      <td>WB_LI</td>\n",
       "      <td>AFG</td>\n",
       "      <td>21</td>\n",
       "      <td>21.0</td>\n",
       "      <td>NaN</td>\n",
       "      <td>NaN</td>\n",
       "      <td>NaN</td>\n",
       "    </tr>\n",
       "    <tr>\n",
       "      <th>2</th>\n",
       "      <td>WHS4_100</td>\n",
       "      <td>PUBLISHED</td>\n",
       "      <td>1995</td>\n",
       "      <td>EMR</td>\n",
       "      <td>WB_LI</td>\n",
       "      <td>AFG</td>\n",
       "      <td>20</td>\n",
       "      <td>20.0</td>\n",
       "      <td>NaN</td>\n",
       "      <td>NaN</td>\n",
       "      <td>NaN</td>\n",
       "    </tr>\n",
       "    <tr>\n",
       "      <th>3</th>\n",
       "      <td>WHS4_100</td>\n",
       "      <td>PUBLISHED</td>\n",
       "      <td>2012</td>\n",
       "      <td>EMR</td>\n",
       "      <td>WB_LI</td>\n",
       "      <td>AFG</td>\n",
       "      <td>67</td>\n",
       "      <td>67.0</td>\n",
       "      <td>NaN</td>\n",
       "      <td>NaN</td>\n",
       "      <td>NaN</td>\n",
       "    </tr>\n",
       "    <tr>\n",
       "      <th>4</th>\n",
       "      <td>WHS4_543</td>\n",
       "      <td>PUBLISHED</td>\n",
       "      <td>1982</td>\n",
       "      <td>EMR</td>\n",
       "      <td>WB_LI</td>\n",
       "      <td>AFG</td>\n",
       "      <td>10</td>\n",
       "      <td>10.0</td>\n",
       "      <td>NaN</td>\n",
       "      <td>NaN</td>\n",
       "      <td>NaN</td>\n",
       "    </tr>\n",
       "  </tbody>\n",
       "</table>\n",
       "</div>"
      ],
      "text/plain": [
       "        GHO PUBLISHSTATE  YEAR REGION WORLDBANKINCOMEGROUP COUNTRY  \\\n",
       "0      PCV3    PUBLISHED  2015    EMR                WB_LI     AFG   \n",
       "1  WHS4_100    PUBLISHED  1992    EMR                WB_LI     AFG   \n",
       "2  WHS4_100    PUBLISHED  1995    EMR                WB_LI     AFG   \n",
       "3  WHS4_100    PUBLISHED  2012    EMR                WB_LI     AFG   \n",
       "4  WHS4_543    PUBLISHED  1982    EMR                WB_LI     AFG   \n",
       "\n",
       "   Display Value  Numeric  Low  High  Comments  \n",
       "0             65     65.0  NaN   NaN       NaN  \n",
       "1             21     21.0  NaN   NaN       NaN  \n",
       "2             20     20.0  NaN   NaN       NaN  \n",
       "3             67     67.0  NaN   NaN       NaN  \n",
       "4             10     10.0  NaN   NaN       NaN  "
      ]
     },
     "execution_count": 7,
     "metadata": {},
     "output_type": "execute_result"
    }
   ],
   "source": [
    "who_1"
   ]
  }
 ],
 "metadata": {
  "kernelspec": {
   "display_name": "Python 3",
   "language": "python",
   "name": "python3"
  },
  "language_info": {
   "codemirror_mode": {
    "name": "ipython",
    "version": 3
   },
   "file_extension": ".py",
   "mimetype": "text/x-python",
   "name": "python",
   "nbconvert_exporter": "python",
   "pygments_lexer": "ipython3",
   "version": "3.6.3"
  }
 },
 "nbformat": 4,
 "nbformat_minor": 2
}
