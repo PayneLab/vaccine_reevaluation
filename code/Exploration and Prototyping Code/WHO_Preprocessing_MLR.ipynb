{
 "cells": [
  {
   "cell_type": "code",
   "execution_count": 1,
   "metadata": {
    "collapsed": true
   },
   "outputs": [],
   "source": [
    "import pandas as pd\n",
    "import math\n",
    "import matplotlib.pyplot as plt\n",
    "import seaborn as sns\n",
    "\n",
    "from sklearn import linear_model\n",
    "from sklearn import preprocessing\n",
    "import numpy as np\n",
    "import statsmodels.api as sm\n",
    "\n",
    "from stats_utils import MLR\n",
    "\n",
    "df = pd.read_csv(\"../data/WHO-SIMPLE.csv\")"
   ]
  },
  {
   "cell_type": "markdown",
   "metadata": {},
   "source": [
    "## Here we are cleaning the data to grab information specifically for the United States, referencing factors that have less than 50% missing data"
   ]
  },
  {
   "cell_type": "code",
   "execution_count": 3,
   "metadata": {
    "collapsed": true
   },
   "outputs": [],
   "source": [
    "usa = df[df['Country Code'] == \"USA\"]"
   ]
  },
  {
   "cell_type": "code",
   "execution_count": 5,
   "metadata": {
    "collapsed": true
   },
   "outputs": [],
   "source": [
    "usa = usa.dropna(thresh=30, axis=1)"
   ]
  },
  {
   "cell_type": "code",
   "execution_count": 6,
   "metadata": {},
   "outputs": [
    {
     "data": {
      "text/html": [
       "<div>\n",
       "<style scoped>\n",
       "    .dataframe tbody tr th:only-of-type {\n",
       "        vertical-align: middle;\n",
       "    }\n",
       "\n",
       "    .dataframe tbody tr th {\n",
       "        vertical-align: top;\n",
       "    }\n",
       "\n",
       "    .dataframe thead th {\n",
       "        text-align: right;\n",
       "    }\n",
       "</style>\n",
       "<table border=\"1\" class=\"dataframe\">\n",
       "  <thead>\n",
       "    <tr style=\"text-align: right;\">\n",
       "      <th></th>\n",
       "      <th>MDG_0000000001</th>\n",
       "      <th>WHS4_100</th>\n",
       "      <th>WHS4_544</th>\n",
       "      <th>WHS8_110</th>\n",
       "      <th>Year</th>\n",
       "      <th>GDP</th>\n",
       "    </tr>\n",
       "  </thead>\n",
       "  <tbody>\n",
       "    <tr>\n",
       "      <th>count</th>\n",
       "      <td>60.000000</td>\n",
       "      <td>40.000000</td>\n",
       "      <td>40.000000</td>\n",
       "      <td>40.000000</td>\n",
       "      <td>60.000000</td>\n",
       "      <td>6.000000e+01</td>\n",
       "    </tr>\n",
       "    <tr>\n",
       "      <th>mean</th>\n",
       "      <td>11.928015</td>\n",
       "      <td>94.550000</td>\n",
       "      <td>91.475000</td>\n",
       "      <td>91.625000</td>\n",
       "      <td>1989.500000</td>\n",
       "      <td>7.457538e+12</td>\n",
       "    </tr>\n",
       "    <tr>\n",
       "      <th>std</th>\n",
       "      <td>6.373582</td>\n",
       "      <td>2.926011</td>\n",
       "      <td>5.373188</td>\n",
       "      <td>3.780432</td>\n",
       "      <td>17.464249</td>\n",
       "      <td>6.306322e+12</td>\n",
       "    </tr>\n",
       "    <tr>\n",
       "      <th>min</th>\n",
       "      <td>5.557430</td>\n",
       "      <td>83.000000</td>\n",
       "      <td>72.000000</td>\n",
       "      <td>82.000000</td>\n",
       "      <td>1960.000000</td>\n",
       "      <td>5.433000e+11</td>\n",
       "    </tr>\n",
       "    <tr>\n",
       "      <th>25%</th>\n",
       "      <td>6.798510</td>\n",
       "      <td>94.000000</td>\n",
       "      <td>90.750000</td>\n",
       "      <td>90.750000</td>\n",
       "      <td>1974.750000</td>\n",
       "      <td>1.649989e+12</td>\n",
       "    </tr>\n",
       "    <tr>\n",
       "      <th>50%</th>\n",
       "      <td>9.534520</td>\n",
       "      <td>95.000000</td>\n",
       "      <td>93.000000</td>\n",
       "      <td>92.000000</td>\n",
       "      <td>1989.500000</td>\n",
       "      <td>5.802362e+12</td>\n",
       "    </tr>\n",
       "    <tr>\n",
       "      <th>75%</th>\n",
       "      <td>16.125405</td>\n",
       "      <td>96.000000</td>\n",
       "      <td>94.000000</td>\n",
       "      <td>92.250000</td>\n",
       "      <td>2004.250000</td>\n",
       "      <td>1.241946e+13</td>\n",
       "    </tr>\n",
       "    <tr>\n",
       "      <th>max</th>\n",
       "      <td>25.887410</td>\n",
       "      <td>97.000000</td>\n",
       "      <td>97.000000</td>\n",
       "      <td>98.000000</td>\n",
       "      <td>2019.000000</td>\n",
       "      <td>2.143323e+13</td>\n",
       "    </tr>\n",
       "  </tbody>\n",
       "</table>\n",
       "</div>"
      ],
      "text/plain": [
       "       MDG_0000000001   WHS4_100   WHS4_544   WHS8_110         Year  \\\n",
       "count       60.000000  40.000000  40.000000  40.000000    60.000000   \n",
       "mean        11.928015  94.550000  91.475000  91.625000  1989.500000   \n",
       "std          6.373582   2.926011   5.373188   3.780432    17.464249   \n",
       "min          5.557430  83.000000  72.000000  82.000000  1960.000000   \n",
       "25%          6.798510  94.000000  90.750000  90.750000  1974.750000   \n",
       "50%          9.534520  95.000000  93.000000  92.000000  1989.500000   \n",
       "75%         16.125405  96.000000  94.000000  92.250000  2004.250000   \n",
       "max         25.887410  97.000000  97.000000  98.000000  2019.000000   \n",
       "\n",
       "                GDP  \n",
       "count  6.000000e+01  \n",
       "mean   7.457538e+12  \n",
       "std    6.306322e+12  \n",
       "min    5.433000e+11  \n",
       "25%    1.649989e+12  \n",
       "50%    5.802362e+12  \n",
       "75%    1.241946e+13  \n",
       "max    2.143323e+13  "
      ]
     },
     "execution_count": 6,
     "metadata": {},
     "output_type": "execute_result"
    }
   ],
   "source": [
    "usa.describe()"
   ]
  },
  {
   "cell_type": "code",
   "execution_count": 8,
   "metadata": {},
   "outputs": [
    {
     "data": {
      "text/html": [
       "<div>\n",
       "<style scoped>\n",
       "    .dataframe tbody tr th:only-of-type {\n",
       "        vertical-align: middle;\n",
       "    }\n",
       "\n",
       "    .dataframe tbody tr th {\n",
       "        vertical-align: top;\n",
       "    }\n",
       "\n",
       "    .dataframe thead th {\n",
       "        text-align: right;\n",
       "    }\n",
       "</style>\n",
       "<table border=\"1\" class=\"dataframe\">\n",
       "  <thead>\n",
       "    <tr style=\"text-align: right;\">\n",
       "      <th></th>\n",
       "      <th>Country_Year</th>\n",
       "      <th>MDG_0000000001</th>\n",
       "      <th>WHS4_100</th>\n",
       "      <th>WHS4_544</th>\n",
       "      <th>WHS8_110</th>\n",
       "      <th>Country Code</th>\n",
       "      <th>Year</th>\n",
       "      <th>GDP</th>\n",
       "    </tr>\n",
       "  </thead>\n",
       "  <tbody>\n",
       "    <tr>\n",
       "      <th>10619</th>\n",
       "      <td>USA_1960</td>\n",
       "      <td>25.88741</td>\n",
       "      <td>NaN</td>\n",
       "      <td>NaN</td>\n",
       "      <td>NaN</td>\n",
       "      <td>USA</td>\n",
       "      <td>1960.0</td>\n",
       "      <td>5.433000e+11</td>\n",
       "    </tr>\n",
       "    <tr>\n",
       "      <th>10620</th>\n",
       "      <td>USA_1961</td>\n",
       "      <td>25.39648</td>\n",
       "      <td>NaN</td>\n",
       "      <td>NaN</td>\n",
       "      <td>NaN</td>\n",
       "      <td>USA</td>\n",
       "      <td>1961.0</td>\n",
       "      <td>5.633000e+11</td>\n",
       "    </tr>\n",
       "    <tr>\n",
       "      <th>10621</th>\n",
       "      <td>USA_1962</td>\n",
       "      <td>24.89482</td>\n",
       "      <td>NaN</td>\n",
       "      <td>NaN</td>\n",
       "      <td>NaN</td>\n",
       "      <td>USA</td>\n",
       "      <td>1962.0</td>\n",
       "      <td>6.051000e+11</td>\n",
       "    </tr>\n",
       "    <tr>\n",
       "      <th>10622</th>\n",
       "      <td>USA_1963</td>\n",
       "      <td>24.37521</td>\n",
       "      <td>NaN</td>\n",
       "      <td>NaN</td>\n",
       "      <td>NaN</td>\n",
       "      <td>USA</td>\n",
       "      <td>1963.0</td>\n",
       "      <td>6.386000e+11</td>\n",
       "    </tr>\n",
       "    <tr>\n",
       "      <th>10623</th>\n",
       "      <td>USA_1964</td>\n",
       "      <td>23.82979</td>\n",
       "      <td>NaN</td>\n",
       "      <td>NaN</td>\n",
       "      <td>NaN</td>\n",
       "      <td>USA</td>\n",
       "      <td>1964.0</td>\n",
       "      <td>6.858000e+11</td>\n",
       "    </tr>\n",
       "  </tbody>\n",
       "</table>\n",
       "</div>"
      ],
      "text/plain": [
       "      Country_Year  MDG_0000000001  WHS4_100  WHS4_544  WHS8_110 Country Code  \\\n",
       "10619     USA_1960        25.88741       NaN       NaN       NaN          USA   \n",
       "10620     USA_1961        25.39648       NaN       NaN       NaN          USA   \n",
       "10621     USA_1962        24.89482       NaN       NaN       NaN          USA   \n",
       "10622     USA_1963        24.37521       NaN       NaN       NaN          USA   \n",
       "10623     USA_1964        23.82979       NaN       NaN       NaN          USA   \n",
       "\n",
       "         Year           GDP  \n",
       "10619  1960.0  5.433000e+11  \n",
       "10620  1961.0  5.633000e+11  \n",
       "10621  1962.0  6.051000e+11  \n",
       "10622  1963.0  6.386000e+11  \n",
       "10623  1964.0  6.858000e+11  "
      ]
     },
     "execution_count": 8,
     "metadata": {},
     "output_type": "execute_result"
    }
   ],
   "source": [
    "usa.head()"
   ]
  },
  {
   "cell_type": "code",
   "execution_count": 21,
   "metadata": {
    "collapsed": true
   },
   "outputs": [],
   "source": [
    "explanatory_vars = ['WHS4_100', 'WHS4_544', 'WHS8_110', 'GDP']\n",
    "response_var = 'MDG_0000000001'\n",
    "x_and_y_cols = explanatory_vars.copy()\n",
    "x_and_y_cols.insert(0, response_var)"
   ]
  },
  {
   "cell_type": "code",
   "execution_count": 22,
   "metadata": {},
   "outputs": [
    {
     "data": {
      "text/plain": [
       "['MDG_0000000001', 'WHS4_100', 'WHS4_544', 'WHS8_110', 'GDP']"
      ]
     },
     "execution_count": 22,
     "metadata": {},
     "output_type": "execute_result"
    }
   ],
   "source": [
    "x_and_y_cols"
   ]
  },
  {
   "cell_type": "markdown",
   "metadata": {},
   "source": [
    "## MLR Requires there to be no rows with missing data.  This will result in us being unable to use data from 1950-1979. However, the only factor we have with data that far back is GDP, which would render MLR useless, since there would only be one factor.  We should end up with 40 observations"
   ]
  },
  {
   "cell_type": "code",
   "execution_count": 15,
   "metadata": {
    "collapsed": true
   },
   "outputs": [],
   "source": [
    "usa = usa.dropna(how='any')"
   ]
  },
  {
   "cell_type": "markdown",
   "metadata": {},
   "source": [
    "## Here we are centering the data around the mean for each column, and scaling it to be consistent across all factors.  It retains the integrity of the data and its distribution, and allows us to meet the assumptions of MLR"
   ]
  },
  {
   "cell_type": "code",
   "execution_count": 26,
   "metadata": {
    "collapsed": true
   },
   "outputs": [],
   "source": [
    "#center the variables\n",
    "centered = preprocessing.scale(usa[x_and_y_cols], with_mean='True', with_std='False')\n",
    "\n",
    "#convert back into a Pandas dataframe and add column names\n",
    "usa_centered = pd.DataFrame(centered, columns=x_and_y_cols)"
   ]
  },
  {
   "cell_type": "code",
   "execution_count": 29,
   "metadata": {},
   "outputs": [
    {
     "name": "stdout",
     "output_type": "stream",
     "text": [
      "MLR Results using Sci-kit Learn:\n",
      "Intercept: \n",
      " -1.402591079336851e-16\n",
      "Coefficients: \n",
      " [-0.61632755  0.79930072 -0.03473434 -0.9640516 ]\n",
      "\n",
      "                            OLS Regression Results                            \n",
      "==============================================================================\n",
      "Dep. Variable:         MDG_0000000001   R-squared:                       0.944\n",
      "Model:                            OLS   Adj. R-squared:                  0.937\n",
      "Method:                 Least Squares   F-statistic:                     146.4\n",
      "Date:                Tue, 30 Mar 2021   Prob (F-statistic):           2.45e-21\n",
      "Time:                        16:13:45   Log-Likelihood:                0.75436\n",
      "No. Observations:                  40   AIC:                             8.491\n",
      "Df Residuals:                      35   BIC:                             16.94\n",
      "Df Model:                           4                                         \n",
      "Covariance Type:            nonrobust                                         \n",
      "==============================================================================\n",
      "                 coef    std err          t      P>|t|      [0.025      0.975]\n",
      "------------------------------------------------------------------------------\n",
      "const       1.631e-16      0.040   4.06e-15      1.000      -0.081       0.081\n",
      "WHS4_100      -0.6163      0.100     -6.143      0.000      -0.820      -0.413\n",
      "WHS4_544       0.7993      0.107      7.438      0.000       0.581       1.017\n",
      "WHS8_110      -0.0347      0.054     -0.647      0.522      -0.144       0.074\n",
      "GDP           -0.9641      0.041    -23.350      0.000      -1.048      -0.880\n",
      "==============================================================================\n",
      "Omnibus:                        5.292   Durbin-Watson:                   0.753\n",
      "Prob(Omnibus):                  0.071   Jarque-Bera (JB):                4.013\n",
      "Skew:                           0.728   Prob(JB):                        0.134\n",
      "Kurtosis:                       3.539   Cond. No.                         5.56\n",
      "==============================================================================\n",
      "\n",
      "Warnings:\n",
      "[1] Standard Errors assume that the covariance matrix of the errors is correctly specified.\n"
     ]
    },
    {
     "data": {
      "text/plain": [
       "(LinearRegression(copy_X=True, fit_intercept=True, n_jobs=None, normalize=False),\n",
       " <statsmodels.regression.linear_model.RegressionResultsWrapper at 0x16a2e7fc630>,\n",
       " 0     1.646982\n",
       " 1     1.633050\n",
       " 2     1.759371\n",
       " 3     1.485100\n",
       " 4     1.413291\n",
       " 5     1.431641\n",
       " 6     1.326152\n",
       " 7     1.416692\n",
       " 8     1.199980\n",
       " 9     0.901160\n",
       " 10    0.830533\n",
       " 11    0.622470\n",
       " 12    0.331292\n",
       " 13    0.249766\n",
       " 14   -0.399698\n",
       " 15   -0.063829\n",
       " 16    0.283102\n",
       " 17   -0.019975\n",
       " 18   -0.115624\n",
       " 19   -0.367315\n",
       " 20   -0.041986\n",
       " 21   -0.251263\n",
       " 22   -0.163706\n",
       " 23   -0.551155\n",
       " 24   -0.534929\n",
       " 25   -0.672047\n",
       " 26   -0.659822\n",
       " 27   -0.773209\n",
       " 28   -0.668995\n",
       " 29   -0.540758\n",
       " 30   -0.656007\n",
       " 31   -0.816633\n",
       " 32   -0.647783\n",
       " 33   -0.761684\n",
       " 34   -1.107088\n",
       " 35   -1.231204\n",
       " 36   -1.167784\n",
       " 37   -1.310913\n",
       " 38   -1.436997\n",
       " 39   -1.570176\n",
       " dtype: float64)"
      ]
     },
     "execution_count": 29,
     "metadata": {},
     "output_type": "execute_result"
    }
   ],
   "source": [
    "MLR(usa_centered, response_var, explanatory_vars)"
   ]
  },
  {
   "cell_type": "markdown",
   "metadata": {},
   "source": [
    "## THE BELOW CODE IS RELEVANT BUT IS FOR EXPLORATION AND POTENTIAL LATER USE. THE CODE ABOVE IS WHAT WE NEED NOW"
   ]
  },
  {
   "cell_type": "code",
   "execution_count": null,
   "metadata": {
    "collapsed": true
   },
   "outputs": [],
   "source": [
    "haveNAN"
   ]
  },
  {
   "cell_type": "code",
   "execution_count": 3,
   "metadata": {
    "collapsed": true
   },
   "outputs": [],
   "source": [
    "usa = usa[usa['Year'] >= 2000]"
   ]
  },
  {
   "cell_type": "code",
   "execution_count": 6,
   "metadata": {
    "collapsed": true
   },
   "outputs": [],
   "source": [
    "usa = usa.dropna(thresh=5, axis=1)"
   ]
  },
  {
   "cell_type": "code",
   "execution_count": 9,
   "metadata": {
    "collapsed": true
   },
   "outputs": [],
   "source": [
    "usa = usa.drop(['PCV3', 'ROTAC'], axis=1)"
   ]
  },
  {
   "cell_type": "code",
   "execution_count": 11,
   "metadata": {
    "collapsed": true
   },
   "outputs": [],
   "source": [
    "usa = usa.dropna(how='any')"
   ]
  },
  {
   "cell_type": "code",
   "execution_count": 13,
   "metadata": {},
   "outputs": [
    {
     "data": {
      "text/plain": [
       "Index(['Country_Year', 'MDG_0000000001', 'WHS4_100', 'WHS4_117', 'WHS4_129',\n",
       "       'WHS4_544', 'WHS8_110', 'MCV2', 'LBW_NUMBER', 'LBW_PREVALENCE',\n",
       "       'MDG_0000000026', 'WSH_SANITATION_SAFELY_MANAGED',\n",
       "       'GHED_CHEGDP_SHA2011', 'Country Code', 'Year', 'GDP'],\n",
       "      dtype='object')"
      ]
     },
     "execution_count": 13,
     "metadata": {},
     "output_type": "execute_result"
    }
   ],
   "source": [
    "usa.columns"
   ]
  },
  {
   "cell_type": "code",
   "execution_count": 15,
   "metadata": {},
   "outputs": [
    {
     "name": "stdout",
     "output_type": "stream",
     "text": [
      "MLR Results using Sci-kit Learn:\n",
      "Intercept: \n",
      " 84.34212770208713\n",
      "Coefficients: \n",
      " [ 7.38891990e-03 -3.23413748e-03 -7.13132612e-03 -8.72731954e-03\n",
      "  1.29458569e-02 -1.54420746e-04  4.35818395e-04  1.32798734e-01\n",
      " -1.36600617e-02 -8.88507285e-01 -2.91914218e-02  4.02581614e-14]\n",
      "\n",
      "                            OLS Regression Results                            \n",
      "==============================================================================\n",
      "Dep. Variable:         MDG_0000000001   R-squared:                       0.999\n",
      "Model:                            OLS   Adj. R-squared:                  0.998\n",
      "Method:                 Least Squares   F-statistic:                     626.9\n",
      "Date:                Fri, 26 Mar 2021   Prob (F-statistic):           4.20e-07\n",
      "Time:                        11:48:45   Log-Likelihood:                 48.430\n",
      "No. Observations:                  16   AIC:                            -74.86\n",
      "Df Residuals:                       5   BIC:                            -66.36\n",
      "Df Model:                          10                                         \n",
      "Covariance Type:            nonrobust                                         \n",
      "=================================================================================================\n",
      "                                    coef    std err          t      P>|t|      [0.025      0.975]\n",
      "-------------------------------------------------------------------------------------------------\n",
      "const                             0.0013      0.000      3.516      0.017       0.000       0.002\n",
      "WHS4_100                          0.0255      0.019      1.314      0.246      -0.024       0.075\n",
      "WHS4_117                          0.0030      0.016      0.194      0.853      -0.037       0.043\n",
      "WHS4_129                         -0.0040      0.009     -0.447      0.674      -0.027       0.019\n",
      "WHS4_544                         -0.0081      0.017     -0.489      0.646      -0.051       0.035\n",
      "WHS8_110                         -0.0002      0.022     -0.011      0.992      -0.056       0.055\n",
      "MCV2                             -0.0087      0.028     -0.311      0.769      -0.081       0.063\n",
      "LBW_NUMBER                        0.0057      0.002      2.306      0.069      -0.001       0.012\n",
      "LBW_PREVALENCE                   -0.0075      0.003     -2.229      0.076      -0.016       0.001\n",
      "MDG_0000000026                    0.0304      0.020      1.526      0.187      -0.021       0.081\n",
      "WSH_SANITATION_SAFELY_MANAGED     0.0862      0.036      2.413      0.061      -0.006       0.178\n",
      "GHED_CHEGDP_SHA2011              -0.1595      0.044     -3.630      0.015      -0.272      -0.047\n",
      "GDP                           -1.285e-13   2.05e-14     -6.263      0.002   -1.81e-13   -7.58e-14\n",
      "==============================================================================\n",
      "Omnibus:                        1.343   Durbin-Watson:                   3.042\n",
      "Prob(Omnibus):                  0.511   Jarque-Bera (JB):                0.953\n",
      "Skew:                          -0.565   Prob(JB):                        0.621\n",
      "Kurtosis:                       2.610   Cond. No.                     1.14e+17\n",
      "==============================================================================\n",
      "\n",
      "Warnings:\n",
      "[1] Standard Errors assume that the covariance matrix of the errors is correctly specified.\n",
      "[2] The condition number is large, 1.14e+17. This might indicate that there are\n",
      "strong multicollinearity or other numerical problems.\n"
     ]
    },
    {
     "name": "stderr",
     "output_type": "stream",
     "text": [
      "C:\\Users\\Daniel\\AppData\\Local\\conda\\conda\\envs\\Research\\lib\\site-packages\\scipy\\stats\\stats.py:1416: UserWarning: kurtosistest only valid for n>=20 ... continuing anyway, n=16\n",
      "  \"anyway, n=%i\" % int(n))\n"
     ]
    },
    {
     "data": {
      "text/plain": [
       "(LinearRegression(copy_X=True, fit_intercept=True, n_jobs=None, normalize=False),\n",
       " <statsmodels.regression.linear_model.RegressionResultsWrapper at 0x1e9a7bb8d30>,\n",
       " 10659    7.102501\n",
       " 10660    7.048594\n",
       " 10661    6.928501\n",
       " 10662    6.885447\n",
       " 10663    6.811521\n",
       " 10664    6.743192\n",
       " 10665    6.677381\n",
       " 10666    6.569558\n",
       " 10667    6.469457\n",
       " 10668    6.361755\n",
       " 10669    6.233547\n",
       " 10670    6.146232\n",
       " 10671    6.034202\n",
       " 10672    5.974738\n",
       " 10673    5.876853\n",
       " 10674    5.807188\n",
       " dtype: float64)"
      ]
     },
     "execution_count": 15,
     "metadata": {},
     "output_type": "execute_result"
    }
   ],
   "source": [
    "explanatory_vars = [\n",
    "    'WHS4_100', \n",
    "    'WHS4_117', \n",
    "    'WHS4_129',\n",
    "    'WHS4_544',\n",
    "    'WHS8_110',\n",
    "    'MCV2',\n",
    "    'LBW_NUMBER',\n",
    "    'LBW_PREVALENCE',\n",
    "    'MDG_0000000026',\n",
    "    'WSH_SANITATION_SAFELY_MANAGED',\n",
    "    'GHED_CHEGDP_SHA2011',\n",
    "    'GDP'\n",
    "]\n",
    "response_var = 'MDG_0000000001'\n",
    "\n",
    "MLR(usa, response_var, explanatory_vars)"
   ]
  },
  {
   "cell_type": "markdown",
   "metadata": {},
   "source": [
    "## The code below eliminates columns with less than 500 actual values, and rows with less than 52.7% cells populated"
   ]
  },
  {
   "cell_type": "code",
   "execution_count": null,
   "metadata": {
    "collapsed": true
   },
   "outputs": [],
   "source": [
    "#Examine data frame and determine which year has the most complete data set\n",
    "df.head()\n",
    "df.describe()\n",
    "\n",
    "df.groupby(['Year']).count().sum(axis=1)\n",
    "df = df.dropna(thresh=500, axis=1)\n",
    "\n",
    "\n",
    "df['SUM'] = df.count(axis=1)\n",
    "df = df[df['SUM'] >= 16]"
   ]
  },
  {
   "cell_type": "markdown",
   "metadata": {},
   "source": [
    "## Below is MLR Code, we must first preprocess"
   ]
  },
  {
   "cell_type": "code",
   "execution_count": null,
   "metadata": {
    "collapsed": true
   },
   "outputs": [],
   "source": [
    "# def scatterplot_2vars(df, x, y):\n",
    "#     plt.scatter(df[x], df[y], color='green')\n",
    "#     plt.title('{} Vs {}'.format(x,y), fontsize=14)\n",
    "#     plt.xlabel(x, fontsize=14)\n",
    "#     plt.ylabel(y, fontsize=14)\n",
    "#     plt.grid(True)\n",
    "#     plt.show()\n",
    "\n",
    "# def histogram(df, x):\n",
    "#     plt.hist(df[x], bins=\"auto\", range=(0,df[x].max()))\n",
    "#     plt.title('{}'.format(x), fontsize=14)\n",
    "#     plt.xlabel(x, fontsize=14)\n",
    "#     plt.grid(True)\n",
    "#     plt.show()"
   ]
  },
  {
   "cell_type": "code",
   "execution_count": null,
   "metadata": {
    "collapsed": true
   },
   "outputs": [],
   "source": [
    "# #This is to examine if the relationships are linear. Not all are, but many are good! A few may need a \n",
    "# # transformation (ie GDP) and a few may not work ultimately\n",
    "# columns_of_interest = ['PCV3',#'ROTAC','NUTRITION_564',\n",
    "#                        'WHS4_100','WHS4_117','WHS4_129','WHS4_543','WHS4_544','WHS8_110',\n",
    "#                        'MCV2','WHS4_128','LBW_NUMBER','LBW_PREVALENCE',\n",
    "#                        #'NUTRITION_HA_2','NUTRITION_WA_2',#'NUTRITION_WH2','NUTRITION_WH_2','WHOSIS_000006',\n",
    "#                        'MDG_0000000026','WSH_SANITATION_SAFELY_MANAGED',\n",
    "#                        #'WHS9_95','WHS_PBR','WSH_2','WSH_3',\n",
    "#                        #'M_Est_smk_curr','M_Est_smk_daily','TOBACCO_0000000192',\n",
    "#                        'GHED_CHEGDP_SHA2011','GDP']\n",
    "\n",
    "# df_transformed = df.copy()\n",
    "# log_col_transform = ['GDP','LBW_NUMBER','LBW_PREVALENCE','MDG_0000000026','GHED_CHEGDP_SHA2011']\n",
    "\n",
    "# for col in columns_of_interest:\n",
    "#     df_transformed[col] = np.log(df[col])\n",
    "#     scatterplot_2vars(df_transformed, col, 'MDG_0000000001')\n",
    "#     histogram(df_transformed, col)\n",
    "\n",
    "# histogram(df_transformed, 'MDG_0000000001')"
   ]
  },
  {
   "cell_type": "code",
   "execution_count": null,
   "metadata": {
    "collapsed": true
   },
   "outputs": [],
   "source": [
    "counts = df.count()\n",
    "counts"
   ]
  },
  {
   "cell_type": "code",
   "execution_count": null,
   "metadata": {
    "collapsed": true
   },
   "outputs": [],
   "source": [
    "haveNAN = df.columns[df.isnull().any()]\n"
   ]
  },
  {
   "cell_type": "code",
   "execution_count": null,
   "metadata": {
    "collapsed": true
   },
   "outputs": [],
   "source": [
    "df.describe()"
   ]
  },
  {
   "cell_type": "code",
   "execution_count": null,
   "metadata": {
    "collapsed": true
   },
   "outputs": [],
   "source": [
    "#Process through all the columns with NaNs:\n",
    "for feature in haveNAN:\n",
    "    print(feature)\n",
    "    bins = df[feature].value_counts(bins=100, sort=False, dropna=False, )\n",
    "    bins_index = bins.index\n",
    "    bins_index = bins_index.set_closed(\"left\")\n",
    "    print(\"first_interval should be ({},{}, closed='left')\\n\".format(-1, bins_index[0].left))\n",
    "    first_interval = pd.Interval(-1, bins_index[0].left, closed='left')\n",
    "    bins_index = bins_index.insert(0,first_interval)\n",
    "    df[feature] = df[feature].fillna(-1)\n",
    "    df[feature] = pd.cut(df[feature], bins=bins_index, right=False)"
   ]
  },
  {
   "cell_type": "code",
   "execution_count": null,
   "metadata": {
    "collapsed": true
   },
   "outputs": [],
   "source": [
    "df.head()"
   ]
  },
  {
   "cell_type": "code",
   "execution_count": null,
   "metadata": {
    "collapsed": true
   },
   "outputs": [],
   "source": []
  },
  {
   "cell_type": "code",
   "execution_count": null,
   "metadata": {
    "collapsed": true
   },
   "outputs": [],
   "source": [
    "df['PCV3'].value_counts()"
   ]
  },
  {
   "cell_type": "code",
   "execution_count": null,
   "metadata": {
    "collapsed": true
   },
   "outputs": [],
   "source": [
    "#This was good for experimentation, but it creates a factor for every unique value, and since\n",
    "#the values aren't ordered, it's basically useless besides telling us that -1 is for missing values\n",
    "codes, uniques = pd.factorize(df['PCV3'])"
   ]
  },
  {
   "cell_type": "code",
   "execution_count": null,
   "metadata": {
    "collapsed": true
   },
   "outputs": [],
   "source": [
    "codes"
   ]
  },
  {
   "cell_type": "code",
   "execution_count": null,
   "metadata": {
    "collapsed": true
   },
   "outputs": [],
   "source": [
    "uniques"
   ]
  },
  {
   "cell_type": "code",
   "execution_count": null,
   "metadata": {
    "collapsed": true
   },
   "outputs": [],
   "source": [
    "x_and_y_cols = columns_of_interest.copy()\n",
    "x_and_y_cols.append('MDG_0000000001')\n",
    "df_no_nan = df_transformed[x_and_y_cols].copy().dropna()\n",
    "X = df_no_nan[columns_of_interest] # Our multiple variables\n",
    "Y = df_no_nan['MDG_0000000001']"
   ]
  },
  {
   "cell_type": "code",
   "execution_count": null,
   "metadata": {
    "collapsed": true
   },
   "outputs": [],
   "source": [
    "len(X)\n"
   ]
  },
  {
   "cell_type": "code",
   "execution_count": null,
   "metadata": {
    "collapsed": true,
    "scrolled": true
   },
   "outputs": [],
   "source": [
    "regr = linear_model.LinearRegression()\n",
    "regr.fit(X, Y)\n",
    "\n",
    "print('Intercept: \\n', regr.intercept_)\n",
    "print('Coefficients: \\n', regr.coef_)\n",
    "\n",
    "# with statsmodels\n",
    "X = sm.add_constant(X) # adding a constant\n",
    " \n",
    "model = sm.OLS(Y, X).fit()\n",
    "predictions = model.predict(X) \n",
    " \n",
    "print_model = model.summary()\n",
    "print(print_model)"
   ]
  },
  {
   "cell_type": "code",
   "execution_count": null,
   "metadata": {
    "collapsed": true
   },
   "outputs": [],
   "source": [
    "model.conf_int()"
   ]
  }
 ],
 "metadata": {
  "kernelspec": {
   "display_name": "Python 3",
   "language": "python",
   "name": "python3"
  },
  "language_info": {
   "codemirror_mode": {
    "name": "ipython",
    "version": 3
   },
   "file_extension": ".py",
   "mimetype": "text/x-python",
   "name": "python",
   "nbconvert_exporter": "python",
   "pygments_lexer": "ipython3",
   "version": "3.6.2"
  }
 },
 "nbformat": 4,
 "nbformat_minor": 2
}
