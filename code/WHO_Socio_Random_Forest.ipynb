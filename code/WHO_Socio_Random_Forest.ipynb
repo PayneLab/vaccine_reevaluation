{
 "cells": [
  {
   "cell_type": "code",
   "execution_count": 1,
   "metadata": {
    "collapsed": true
   },
   "outputs": [],
   "source": [
    "import pandas as pd\n",
    "from sklearn.ensemble import RandomForestRegressor\n",
    "from sklearn.model_selection import train_test_split\n",
    "from sklearn import preprocessing\n",
    "import numpy as np"
   ]
  },
  {
   "cell_type": "code",
   "execution_count": 2,
   "metadata": {
    "collapsed": true
   },
   "outputs": [],
   "source": [
    "df = pd.read_csv(\"../data/WHO-SIMPLE.csv\")"
   ]
  },
  {
   "cell_type": "code",
   "execution_count": 3,
   "metadata": {
    "collapsed": true
   },
   "outputs": [],
   "source": [
    "socio_factors = [\n",
    "    'NUTRITION_564',\n",
    "    'LBW_PREVALENCE',\n",
    "    'NUTRITION_HA_2',\n",
    "    'NUTRITION_WA_2',\n",
    "    'NUTRITION_WH2',\n",
    "    'NUTRITION_WH_2',\n",
    "    'MDG_0000000026',\n",
    "    'WHS_PBR', \n",
    "    'WSH_SANITATION_SAFELY_MANAGED', \n",
    "    'M_Est_smk_curr',\n",
    "    'M_Est_smk_daily',\n",
    "    'TOBACCO_0000000192',\n",
    "    'GHED_CHEGDP_SHA2011', \n",
    "    'GDP',\n",
    "    'MDG_0000000003', \n",
    "    'MDG_0000000025'\n",
    "]\n",
    "\n",
    "imr = 'MDG_0000000001'"
   ]
  },
  {
   "cell_type": "code",
   "execution_count": 4,
   "metadata": {
    "collapsed": true
   },
   "outputs": [],
   "source": [
    "relevant_factors = socio_factors.copy()\n",
    "relevant_factors.insert(0, imr)"
   ]
  },
  {
   "cell_type": "code",
   "execution_count": 5,
   "metadata": {
    "collapsed": true
   },
   "outputs": [],
   "source": [
    "socio_df = df[relevant_factors].copy()"
   ]
  },
  {
   "cell_type": "code",
   "execution_count": 6,
   "metadata": {},
   "outputs": [],
   "source": [
    "socio_df = socio_df.dropna(thresh=1700, axis=1)"
   ]
  },
  {
   "cell_type": "code",
   "execution_count": 7,
   "metadata": {},
   "outputs": [
    {
     "data": {
      "text/html": [
       "<div>\n",
       "<style scoped>\n",
       "    .dataframe tbody tr th:only-of-type {\n",
       "        vertical-align: middle;\n",
       "    }\n",
       "\n",
       "    .dataframe tbody tr th {\n",
       "        vertical-align: top;\n",
       "    }\n",
       "\n",
       "    .dataframe thead th {\n",
       "        text-align: right;\n",
       "    }\n",
       "</style>\n",
       "<table border=\"1\" class=\"dataframe\">\n",
       "  <thead>\n",
       "    <tr style=\"text-align: right;\">\n",
       "      <th></th>\n",
       "      <th>MDG_0000000001</th>\n",
       "      <th>LBW_PREVALENCE</th>\n",
       "      <th>MDG_0000000026</th>\n",
       "      <th>GHED_CHEGDP_SHA2011</th>\n",
       "      <th>GDP</th>\n",
       "      <th>MDG_0000000003</th>\n",
       "      <th>MDG_0000000025</th>\n",
       "    </tr>\n",
       "  </thead>\n",
       "  <tbody>\n",
       "    <tr>\n",
       "      <th>count</th>\n",
       "      <td>11289.000000</td>\n",
       "      <td>2320.000000</td>\n",
       "      <td>3276.000000</td>\n",
       "      <td>3560.000000</td>\n",
       "      <td>8.911000e+03</td>\n",
       "      <td>2176.000000</td>\n",
       "      <td>1746.000000</td>\n",
       "    </tr>\n",
       "    <tr>\n",
       "      <th>mean</th>\n",
       "      <td>54.199007</td>\n",
       "      <td>10.087026</td>\n",
       "      <td>207.671245</td>\n",
       "      <td>6.300938</td>\n",
       "      <td>1.914292e+11</td>\n",
       "      <td>43.188787</td>\n",
       "      <td>92.125885</td>\n",
       "    </tr>\n",
       "    <tr>\n",
       "      <th>std</th>\n",
       "      <td>48.087793</td>\n",
       "      <td>4.923792</td>\n",
       "      <td>302.623492</td>\n",
       "      <td>3.013298</td>\n",
       "      <td>9.744936e+11</td>\n",
       "      <td>40.854141</td>\n",
       "      <td>16.488824</td>\n",
       "    </tr>\n",
       "    <tr>\n",
       "      <th>min</th>\n",
       "      <td>1.493180</td>\n",
       "      <td>2.400000</td>\n",
       "      <td>2.000000</td>\n",
       "      <td>1.030000</td>\n",
       "      <td>8.824448e+06</td>\n",
       "      <td>0.000000</td>\n",
       "      <td>5.700000</td>\n",
       "    </tr>\n",
       "    <tr>\n",
       "      <th>25%</th>\n",
       "      <td>15.539030</td>\n",
       "      <td>6.200000</td>\n",
       "      <td>16.000000</td>\n",
       "      <td>4.240000</td>\n",
       "      <td>1.666522e+09</td>\n",
       "      <td>12.875000</td>\n",
       "      <td>95.500000</td>\n",
       "    </tr>\n",
       "    <tr>\n",
       "      <th>50%</th>\n",
       "      <td>38.974950</td>\n",
       "      <td>8.800000</td>\n",
       "      <td>65.000000</td>\n",
       "      <td>5.785000</td>\n",
       "      <td>9.059340e+09</td>\n",
       "      <td>28.000000</td>\n",
       "      <td>99.000000</td>\n",
       "    </tr>\n",
       "    <tr>\n",
       "      <th>75%</th>\n",
       "      <td>82.065320</td>\n",
       "      <td>12.800000</td>\n",
       "      <td>290.250000</td>\n",
       "      <td>7.960000</td>\n",
       "      <td>5.758224e+10</td>\n",
       "      <td>62.400000</td>\n",
       "      <td>99.800000</td>\n",
       "    </tr>\n",
       "    <tr>\n",
       "      <th>max</th>\n",
       "      <td>279.657810</td>\n",
       "      <td>36.200000</td>\n",
       "      <td>2480.000000</td>\n",
       "      <td>50.180000</td>\n",
       "      <td>2.143323e+13</td>\n",
       "      <td>229.000000</td>\n",
       "      <td>100.000000</td>\n",
       "    </tr>\n",
       "  </tbody>\n",
       "</table>\n",
       "</div>"
      ],
      "text/plain": [
       "       MDG_0000000001  LBW_PREVALENCE  MDG_0000000026  GHED_CHEGDP_SHA2011  \\\n",
       "count    11289.000000     2320.000000     3276.000000          3560.000000   \n",
       "mean        54.199007       10.087026      207.671245             6.300938   \n",
       "std         48.087793        4.923792      302.623492             3.013298   \n",
       "min          1.493180        2.400000        2.000000             1.030000   \n",
       "25%         15.539030        6.200000       16.000000             4.240000   \n",
       "50%         38.974950        8.800000       65.000000             5.785000   \n",
       "75%         82.065320       12.800000      290.250000             7.960000   \n",
       "max        279.657810       36.200000     2480.000000            50.180000   \n",
       "\n",
       "                GDP  MDG_0000000003  MDG_0000000025  \n",
       "count  8.911000e+03     2176.000000     1746.000000  \n",
       "mean   1.914292e+11       43.188787       92.125885  \n",
       "std    9.744936e+11       40.854141       16.488824  \n",
       "min    8.824448e+06        0.000000        5.700000  \n",
       "25%    1.666522e+09       12.875000       95.500000  \n",
       "50%    9.059340e+09       28.000000       99.000000  \n",
       "75%    5.758224e+10       62.400000       99.800000  \n",
       "max    2.143323e+13      229.000000      100.000000  "
      ]
     },
     "execution_count": 7,
     "metadata": {},
     "output_type": "execute_result"
    }
   ],
   "source": [
    "socio_df.describe()"
   ]
  },
  {
   "cell_type": "code",
   "execution_count": 8,
   "metadata": {},
   "outputs": [
    {
     "data": {
      "text/plain": [
       "11289"
      ]
     },
     "execution_count": 8,
     "metadata": {},
     "output_type": "execute_result"
    }
   ],
   "source": [
    "len(socio_df)"
   ]
  },
  {
   "cell_type": "code",
   "execution_count": 9,
   "metadata": {
    "collapsed": true
   },
   "outputs": [],
   "source": [
    "socio_df = socio_df.dropna(how='any')"
   ]
  },
  {
   "cell_type": "code",
   "execution_count": 10,
   "metadata": {},
   "outputs": [
    {
     "data": {
      "text/plain": [
       "1004"
      ]
     },
     "execution_count": 10,
     "metadata": {},
     "output_type": "execute_result"
    }
   ],
   "source": [
    "len(socio_df)"
   ]
  },
  {
   "cell_type": "markdown",
   "metadata": {},
   "source": [
    "## Center and scale data for each columns"
   ]
  },
  {
   "cell_type": "code",
   "execution_count": 11,
   "metadata": {
    "collapsed": true
   },
   "outputs": [],
   "source": [
    "all_columns = socio_df.columns"
   ]
  },
  {
   "cell_type": "code",
   "execution_count": 12,
   "metadata": {},
   "outputs": [],
   "source": [
    "# Create the Scalar object\n",
    "scaler = preprocessing.StandardScaler()"
   ]
  },
  {
   "cell_type": "code",
   "execution_count": 13,
   "metadata": {},
   "outputs": [],
   "source": [
    "# Fit data on the Scaler object\n",
    "scaled_arr = scaler.fit_transform(socio_df[all_columns])\n",
    "scaled_df = pd.DataFrame(scaled_arr, columns=all_columns)"
   ]
  },
  {
   "cell_type": "code",
   "execution_count": 14,
   "metadata": {},
   "outputs": [
    {
     "data": {
      "text/html": [
       "<div>\n",
       "<style scoped>\n",
       "    .dataframe tbody tr th:only-of-type {\n",
       "        vertical-align: middle;\n",
       "    }\n",
       "\n",
       "    .dataframe tbody tr th {\n",
       "        vertical-align: top;\n",
       "    }\n",
       "\n",
       "    .dataframe thead th {\n",
       "        text-align: right;\n",
       "    }\n",
       "</style>\n",
       "<table border=\"1\" class=\"dataframe\">\n",
       "  <thead>\n",
       "    <tr style=\"text-align: right;\">\n",
       "      <th></th>\n",
       "      <th>MDG_0000000001</th>\n",
       "      <th>LBW_PREVALENCE</th>\n",
       "      <th>MDG_0000000026</th>\n",
       "      <th>GHED_CHEGDP_SHA2011</th>\n",
       "      <th>GDP</th>\n",
       "      <th>MDG_0000000003</th>\n",
       "      <th>MDG_0000000025</th>\n",
       "    </tr>\n",
       "  </thead>\n",
       "  <tbody>\n",
       "    <tr>\n",
       "      <th>0</th>\n",
       "      <td>0.410620</td>\n",
       "      <td>-0.932545</td>\n",
       "      <td>-0.224021</td>\n",
       "      <td>-0.192345</td>\n",
       "      <td>-0.312742</td>\n",
       "      <td>-0.418043</td>\n",
       "      <td>0.317643</td>\n",
       "    </tr>\n",
       "    <tr>\n",
       "      <th>1</th>\n",
       "      <td>0.032162</td>\n",
       "      <td>-0.963930</td>\n",
       "      <td>-0.242608</td>\n",
       "      <td>-0.875019</td>\n",
       "      <td>-0.310796</td>\n",
       "      <td>-0.464554</td>\n",
       "      <td>0.267382</td>\n",
       "    </tr>\n",
       "    <tr>\n",
       "      <th>2</th>\n",
       "      <td>-0.300794</td>\n",
       "      <td>1.609634</td>\n",
       "      <td>-0.382008</td>\n",
       "      <td>-1.714629</td>\n",
       "      <td>-0.244628</td>\n",
       "      <td>-0.352152</td>\n",
       "      <td>0.337748</td>\n",
       "    </tr>\n",
       "    <tr>\n",
       "      <th>3</th>\n",
       "      <td>0.387862</td>\n",
       "      <td>-0.116537</td>\n",
       "      <td>0.184885</td>\n",
       "      <td>0.643342</td>\n",
       "      <td>-0.178168</td>\n",
       "      <td>1.283500</td>\n",
       "      <td>0.247278</td>\n",
       "    </tr>\n",
       "    <tr>\n",
       "      <th>4</th>\n",
       "      <td>0.342449</td>\n",
       "      <td>-0.085152</td>\n",
       "      <td>0.194179</td>\n",
       "      <td>0.702193</td>\n",
       "      <td>-0.185725</td>\n",
       "      <td>1.136213</td>\n",
       "      <td>0.176912</td>\n",
       "    </tr>\n",
       "  </tbody>\n",
       "</table>\n",
       "</div>"
      ],
      "text/plain": [
       "   MDG_0000000001  LBW_PREVALENCE  MDG_0000000026  GHED_CHEGDP_SHA2011  \\\n",
       "0        0.410620       -0.932545       -0.224021            -0.192345   \n",
       "1        0.032162       -0.963930       -0.242608            -0.875019   \n",
       "2       -0.300794        1.609634       -0.382008            -1.714629   \n",
       "3        0.387862       -0.116537        0.184885             0.643342   \n",
       "4        0.342449       -0.085152        0.194179             0.702193   \n",
       "\n",
       "        GDP  MDG_0000000003  MDG_0000000025  \n",
       "0 -0.312742       -0.418043        0.317643  \n",
       "1 -0.310796       -0.464554        0.267382  \n",
       "2 -0.244628       -0.352152        0.337748  \n",
       "3 -0.178168        1.283500        0.247278  \n",
       "4 -0.185725        1.136213        0.176912  "
      ]
     },
     "execution_count": 14,
     "metadata": {},
     "output_type": "execute_result"
    }
   ],
   "source": [
    "scaled_df.head()"
   ]
  },
  {
   "cell_type": "markdown",
   "metadata": {},
   "source": [
    "## Random Forest Implementation"
   ]
  },
  {
   "cell_type": "code",
   "execution_count": 15,
   "metadata": {},
   "outputs": [],
   "source": [
    "# Separate explanatory variables and response variable\n",
    "explanatory_vars = all_columns.copy()\n",
    "explanatory_vars = list(explanatory_vars)\n",
    "explanatory_vars.remove(imr)\n",
    "\n",
    "# Split data into train and test sets\n",
    "x = scaled_df[explanatory_vars]\n",
    "y = scaled_df[imr]\n",
    "x_train, x_test, y_train, y_test = train_test_split(x, y, test_size=0.33, random_state=42)"
   ]
  },
  {
   "cell_type": "code",
   "execution_count": 16,
   "metadata": {
    "collapsed": true
   },
   "outputs": [],
   "source": [
    "rf = RandomForestRegressor()"
   ]
  },
  {
   "cell_type": "code",
   "execution_count": 17,
   "metadata": {},
   "outputs": [
    {
     "name": "stderr",
     "output_type": "stream",
     "text": [
      "C:\\Users\\Daniel\\AppData\\Local\\conda\\conda\\envs\\Research\\lib\\site-packages\\sklearn\\ensemble\\forest.py:245: FutureWarning: The default value of n_estimators will change from 10 in version 0.20 to 100 in 0.22.\n",
      "  \"10 in version 0.20 to 100 in 0.22.\", FutureWarning)\n"
     ]
    },
    {
     "data": {
      "text/plain": [
       "RandomForestRegressor(bootstrap=True, criterion='mse', max_depth=None,\n",
       "                      max_features='auto', max_leaf_nodes=None,\n",
       "                      min_impurity_decrease=0.0, min_impurity_split=None,\n",
       "                      min_samples_leaf=1, min_samples_split=2,\n",
       "                      min_weight_fraction_leaf=0.0, n_estimators=10,\n",
       "                      n_jobs=None, oob_score=False, random_state=None,\n",
       "                      verbose=0, warm_start=False)"
      ]
     },
     "execution_count": 17,
     "metadata": {},
     "output_type": "execute_result"
    }
   ],
   "source": [
    "rf.fit(x_train, y_train)"
   ]
  },
  {
   "cell_type": "code",
   "execution_count": 18,
   "metadata": {},
   "outputs": [
    {
     "data": {
      "text/plain": [
       "0.8302080402435795"
      ]
     },
     "execution_count": 18,
     "metadata": {},
     "output_type": "execute_result"
    }
   ],
   "source": [
    "rf.score(x_test, y_test)"
   ]
  },
  {
   "cell_type": "code",
   "execution_count": 19,
   "metadata": {
    "collapsed": true
   },
   "outputs": [],
   "source": [
    "feature_importances = rf.feature_importances_"
   ]
  },
  {
   "cell_type": "code",
   "execution_count": 20,
   "metadata": {},
   "outputs": [
    {
     "name": "stdout",
     "output_type": "stream",
     "text": [
      "Feature: LBW_PREVALENCE Importance: 0.06719591831145592\n",
      "Feature: MDG_0000000026 Importance: 0.7459749649629666\n",
      "Feature: GHED_CHEGDP_SHA2011 Importance: 0.05643541500340375\n",
      "Feature: GDP Importance: 0.04659180452168099\n",
      "Feature: MDG_0000000003 Importance: 0.05398734022598088\n",
      "Feature: MDG_0000000025 Importance: 0.029814556974511987\n"
     ]
    }
   ],
   "source": [
    "for i, feature in enumerate(explanatory_vars):\n",
    "    print(\"Feature:\", feature, \"Importance:\", feature_importances[i])"
   ]
  }
 ],
 "metadata": {
  "kernelspec": {
   "display_name": "Python 3",
   "language": "python",
   "name": "python3"
  },
  "language_info": {
   "codemirror_mode": {
    "name": "ipython",
    "version": 3
   },
   "file_extension": ".py",
   "mimetype": "text/x-python",
   "name": "python",
   "nbconvert_exporter": "python",
   "pygments_lexer": "ipython3",
   "version": "3.6.2"
  }
 },
 "nbformat": 4,
 "nbformat_minor": 2
}
